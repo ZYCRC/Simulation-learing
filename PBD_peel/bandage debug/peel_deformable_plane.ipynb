{
 "cells": [
  {
   "cell_type": "code",
   "execution_count": 1,
   "metadata": {},
   "outputs": [],
   "source": [
    "from xpbd_softbody import XPBDSoftbody\n",
    "import pyvista as pv\n",
    "import config as cfg\n",
    "import matplotlib.pyplot as plt\n",
    "import torch\n",
    "from xpbd_softbody_layer import XPBDStep\n",
    "import numpy as np\n",
    "from sklearn.neighbors import KDTree\n",
    "from xpbd_softbody_layer import get_energy_boundary\n",
    "from scipy.interpolate import interp1d\n",
    "from cubic_bezier import *\n",
    "from tqdm import trange\n",
    "from torchviz import make_dot\n",
    "import os"
   ]
  },
  {
   "cell_type": "code",
   "execution_count": 2,
   "metadata": {},
   "outputs": [],
   "source": [
    "# para setup\n",
    "N = 100"
   ]
  },
  {
   "cell_type": "code",
   "execution_count": null,
   "metadata": {},
   "outputs": [],
   "source": []
  }
 ],
 "metadata": {
  "kernelspec": {
   "display_name": "py_pbd",
   "language": "python",
   "name": "python3"
  },
  "language_info": {
   "codemirror_mode": {
    "name": "ipython",
    "version": 3
   },
   "file_extension": ".py",
   "mimetype": "text/x-python",
   "name": "python",
   "nbconvert_exporter": "python",
   "pygments_lexer": "ipython3",
   "version": "3.10.9"
  }
 },
 "nbformat": 4,
 "nbformat_minor": 2
}
