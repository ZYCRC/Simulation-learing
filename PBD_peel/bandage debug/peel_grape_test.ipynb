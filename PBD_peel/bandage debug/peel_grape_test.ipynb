{
 "cells": [
  {
   "cell_type": "code",
   "execution_count": 1,
   "metadata": {},
   "outputs": [],
   "source": [
    "from xpbd_softbody import XPBDSoftbody\n",
    "import pyvista as pv\n",
    "import config as cfg\n",
    "import matplotlib.pyplot as plt\n",
    "import torch\n",
    "from xpbd_softbody_layer import XPBDStep\n",
    "import numpy as np\n",
    "from sklearn.neighbors import KDTree\n",
    "from xpbd_softbody_layer import get_energy_boundary\n",
    "from scipy.interpolate import interp1d\n",
    "from cubic_bezier import *\n",
    "from tqdm import trange\n",
    "from torchviz import make_dot\n",
    "import os\n",
    "from tqdm import trange"
   ]
  },
  {
   "cell_type": "code",
   "execution_count": 2,
   "metadata": {},
   "outputs": [
    {
     "name": "stdout",
     "output_type": "stream",
     "text": [
      "detect 2 object\n"
     ]
    }
   ],
   "source": [
    "path='../assets'\n",
    "softbody = XPBDSoftbody()\n",
    "mesh = softbody.add_thinshell(pv.read(os.path.join(path, 'grape_skin.ply')), n_surf=cfg.n_surf)\n",
    "mesh = softbody.add_thinshell(pv.read(os.path.join(path, 'grape_skin.ply')), n_surf=cfg.n_surf)\n",
    "# mesh = softbody.add_thinshell(pv.Plane(), n_surf=cfg.n_surf)\n",
    "softbody.init_states()\n",
    "softbody.init_dist_constraints()\n",
    "\n",
    "softbody.add_multi_boundary_constrain(1, 0, 0.0006, range(600))\n",
    "softbody.fix_indice(0, range(600))"
   ]
  },
  {
   "cell_type": "code",
   "execution_count": 4,
   "metadata": {},
   "outputs": [
    {
     "data": {
      "text/plain": [
       "tensor([[-0.0002,  0.0002,  0.0014],\n",
       "        [-0.0004, -0.0004,  0.0014],\n",
       "        [-0.0006, -0.0011,  0.0014],\n",
       "        ...,\n",
       "        [ 0.0016,  0.0122, -0.0023],\n",
       "        [ 0.0011,  0.0126, -0.0025],\n",
       "        [ 0.0005,  0.0130, -0.0026]])"
      ]
     },
     "execution_count": 4,
     "metadata": {},
     "output_type": "execute_result"
    }
   ],
   "source": [
    "softbody.V"
   ]
  },
  {
   "cell_type": "code",
   "execution_count": 3,
   "metadata": {},
   "outputs": [
    {
     "data": {
      "text/plain": [
       "torch.Size([690, 2])"
      ]
     },
     "execution_count": 3,
     "metadata": {},
     "output_type": "execute_result"
    }
   ],
   "source": [
    "softbody.C_boundary_list[0].shape"
   ]
  },
  {
   "cell_type": "code",
   "execution_count": 4,
   "metadata": {},
   "outputs": [],
   "source": [
    "V_origin = softbody.V.clone()\n",
    "V_velocity_origin = softbody.V_velocity.clone()"
   ]
  },
  {
   "cell_type": "code",
   "execution_count": 5,
   "metadata": {},
   "outputs": [],
   "source": [
    "# stiffness setting\n",
    "cloth_dist_stiffness = 1\n",
    "V_boundary_stiffness = 0.1\n",
    "V_dist_stiffness = torch.ones_like(softbody.V_mass).to(cfg.device)\n",
    "V_boundary_stiffness = torch.ones((softbody.C_boundary_list[0].shape[0], 1)).to(cfg.device) * V_boundary_stiffness"
   ]
  },
  {
   "cell_type": "code",
   "execution_count": 6,
   "metadata": {},
   "outputs": [
    {
     "data": {
      "text/plain": [
       "torch.Size([690, 1])"
      ]
     },
     "execution_count": 6,
     "metadata": {},
     "output_type": "execute_result"
    }
   ],
   "source": [
    "V_boundary_stiffness.shape"
   ]
  },
  {
   "cell_type": "code",
   "execution_count": 7,
   "metadata": {},
   "outputs": [],
   "source": [
    "u = torch.linspace(0, 1, 3).to(cfg.device)\n",
    "us = torch.linspace(0, 1, 50).to(cfg.device)\n",
    "start_point = np.array([[0.000224, 0.010794, -0.001233]])\n",
    "start_point = torch.from_numpy(start_point).to(cfg.device)\n",
    "# spline_control = np.array([ [0.000224, 0.010794, 0.003],\n",
    "#                             [0.000224, 0.010794, 0.006],\n",
    "#                             [0.000224, 0.010794, 0.009]])\n",
    "spline_control = np.array([ [0.000224, 0.009794, 0.001],\n",
    "                            [0.000224, 0.008794, 0.0020],\n",
    "                            [0.000224, 0.007794, 0.0035]])\n",
    "spline_control = torch.from_numpy(spline_control).to(cfg.device)"
   ]
  },
  {
   "cell_type": "code",
   "execution_count": 8,
   "metadata": {},
   "outputs": [],
   "source": [
    "control_point = 31 + softbody.offset_list[1]\n",
    "softbody.fix_point(1, 31)"
   ]
  },
  {
   "cell_type": "code",
   "execution_count": 9,
   "metadata": {},
   "outputs": [
    {
     "data": {
      "text/plain": [
       "torch.Size([690, 1])"
      ]
     },
     "execution_count": 9,
     "metadata": {},
     "output_type": "execute_result"
    }
   ],
   "source": [
    "V_boundary_stiffness.shape"
   ]
  },
  {
   "cell_type": "code",
   "execution_count": 10,
   "metadata": {},
   "outputs": [
    {
     "data": {
      "text/plain": [
       "Actor (0x7fa7f5e616c0)\n",
       "  Center:                     (-9.851530194282532e-06, 0.0014494163915514946, -0.0009795548299327494)\n",
       "  Pickable:                   True\n",
       "  Position:                   (0.0, 0.0, 0.0)\n",
       "  Scale:                      (1.0, 1.0, 1.0)\n",
       "  Visible:                    True\n",
       "  X Bounds                    -6.636E-03, 6.616E-03\n",
       "  Y Bounds                    -1.040E-02, 1.330E-02\n",
       "  Z Bounds                    -3.189E-03, 1.230E-03\n",
       "  User matrix:                Set\n",
       "  Has mapper:                 True\n",
       "\n",
       "Property (0x7fa7f5e61ae0)\n",
       "  Ambient:                     0.0\n",
       "  Ambient color:               Color(hex='#c0ab5eff', opacity=255)\n",
       "  Anisotropy:                  0.0\n",
       "  Color:                       Color(hex='#c0ab5eff', opacity=255)\n",
       "  Culling:                     \"none\"\n",
       "  Diffuse:                     1.0\n",
       "  Diffuse color:               Color(hex='#c0ab5eff', opacity=255)\n",
       "  Edge color:                  Color(name='black', hex='#000000ff', opacity=255)\n",
       "  Edge opacity:                1.0\n",
       "  Interpolation:               0\n",
       "  Lighting:                    False\n",
       "  Line width:                  1.0\n",
       "  Metallic:                    0.0\n",
       "  Opacity:                     1.0\n",
       "  Point size:                  5.0\n",
       "  Render lines as tubes:       False\n",
       "  Render points as spheres:    False\n",
       "  Roughness:                   0.5\n",
       "  Show edges:                  False\n",
       "  Specular:                    0.0\n",
       "  Specular color:              Color(hex='#c0ab5eff', opacity=255)\n",
       "  Specular power:              100.0\n",
       "  Style:                       \"Surface\"\n",
       "\n",
       "DataSetMapper (0x7fa7f5e613c0)\n",
       "  Scalar visibility:           False\n",
       "  Scalar range:                (0.0, 1.0)\n",
       "  Interpolate before mapping:  True\n",
       "  Scalar map mode:             default\n",
       "  Color mode:                  direct\n",
       "\n",
       "Attached dataset:\n",
       "PolyData (0x7fa7f5e61600)\n",
       "  N Cells:    588\n",
       "  N Points:   380\n",
       "  N Strips:   0\n",
       "  X Bounds:   -6.636e-03, 6.616e-03\n",
       "  Y Bounds:   -1.040e-02, 1.330e-02\n",
       "  Z Bounds:   -3.189e-03, 1.230e-03\n",
       "  N Arrays:   0"
      ]
     },
     "execution_count": 10,
     "metadata": {},
     "output_type": "execute_result"
    }
   ],
   "source": [
    "pv.set_plot_theme('document')\n",
    "pl = pv.Plotter()\n",
    "\n",
    "# skin being peeled\n",
    "pl.add_mesh(mesh, color='#9f5547ff', show_edges=True, edge_color='#b37164ff',  lighting=False,style='surface')\n",
    "# ellipsoid grape\n",
    "grape = pv.read('../assets/grape.ply')\n",
    "grape.points = grape.points - np.array([0, 0, 1e-4])\n",
    "pl.add_mesh(grape, color='#9f5547ff', show_edges=False, lighting=False,style='surface')\n",
    "\n",
    "# grape meat that is green\n",
    "grape_meat= pv.read('../assets/grape_skin.ply')\n",
    "grape_meat.points = grape_meat.points - np.array([0, 0, 2e-4])\n",
    "pl.add_mesh(grape_meat, color='#c0ab5eff', show_edges=False, lighting=False,style='surface')"
   ]
  },
  {
   "cell_type": "code",
   "execution_count": 11,
   "metadata": {},
   "outputs": [
    {
     "data": {
      "text/plain": [
       "tensor([[0.0002, 0.0098, 0.0010],\n",
       "        [0.0002, 0.0088, 0.0020],\n",
       "        [0.0002, 0.0078, 0.0035]], dtype=torch.float64, requires_grad=True)"
      ]
     },
     "execution_count": 11,
     "metadata": {},
     "output_type": "execute_result"
    }
   ],
   "source": [
    "# setup opt para\n",
    "spline_control.requires_grad_(True)"
   ]
  },
  {
   "cell_type": "code",
   "execution_count": 12,
   "metadata": {},
   "outputs": [],
   "source": [
    "optimizer = torch.optim.Adam([spline_control], lr = 0.001)"
   ]
  },
  {
   "cell_type": "code",
   "execution_count": 13,
   "metadata": {},
   "outputs": [],
   "source": [
    "## point position target\n",
    "# target = torch.tensor([0.01, 0.01, 0.01])\n",
    "# target_point = 25 + softbody.offset_list[1]"
   ]
  },
  {
   "cell_type": "code",
   "execution_count": 14,
   "metadata": {},
   "outputs": [],
   "source": [
    "## stiffness target\n",
    "target = torch.ones_like(V_boundary_stiffness) * 1e-5"
   ]
  },
  {
   "cell_type": "code",
   "execution_count": 15,
   "metadata": {},
   "outputs": [],
   "source": [
    "def loss_fn(target, pred):\n",
    "    return torch.norm(target - pred)"
   ]
  },
  {
   "cell_type": "code",
   "execution_count": 16,
   "metadata": {},
   "outputs": [],
   "source": [
    "# pl.open_gif('grape.gif')\n",
    "for t in range(10):\n",
    "    x_con = torch.cat((start_point[:, 0], spline_control[:, 0]))\n",
    "    y_con = torch.cat((start_point[:, 1], spline_control[:, 1]))\n",
    "    z_con = torch.cat((start_point[:, 2], spline_control[:, 2]))\n",
    "\n",
    "    spline = cubic_bezier_arc_3D(x_con, y_con, z_con, 0.00025)\n",
    "    print(spline.shape)\n",
    "    spline_x = spline[0]\n",
    "    spline_y = spline[1]\n",
    "    spline_z = spline[2]\n",
    "\n",
    "    spline_trajectory = torch.transpose(torch.vstack((spline_x, spline_y, spline_z)), 0, 1)\n",
    "    # reset for each test\n",
    "    softbody.V = V_origin.clone()\n",
    "    softbody.V_velocity = V_velocity_origin.clone()\n",
    "\n",
    "    cloth_dist_stiffness = 1\n",
    "    V_boundary_stiffness = 0.1\n",
    "    V_dist_stiffness = torch.ones_like(softbody.V_mass).to(cfg.device)\n",
    "    V_boundary_stiffness = torch.ones((softbody.C_boundary_list[0].shape[0], 1)).to(cfg.device) * V_boundary_stiffness\n",
    "    energy_total = torch.zeros(1).to(cfg.device)\n",
    "    for i in trange(spline_trajectory.shape[0]):\n",
    "        softbody.V[control_point] = spline_trajectory[i]\n",
    "        step_ref = XPBDStep(softbody,\n",
    "                        V_dist_stiffness=V_dist_stiffness, \n",
    "                        V_shape_stiffness=None,\n",
    "                        V_boundary_stiffness=V_boundary_stiffness, \n",
    "                        dt=cfg.dt,\n",
    "                        substep=cfg.substep,\n",
    "                        iteration=cfg.iteration,\n",
    "                        quasi_static=cfg.quasi_static,\n",
    "                        plane_height=cfg.ground_plane_height, \n",
    "                        use_shape_matching=cfg.use_shape_matching,\n",
    "                        use_spring_boundary=cfg.use_spring_boundary,\n",
    "                        use_dist=True) #cfg.use_spring_boundary\n",
    "        V_ref, V_velocity_ref = step_ref.forward(softbody.V, softbody.V_velocity)\n",
    "        softbody.V = V_ref.clone()\n",
    "        softbody.V_velocity = V_velocity_ref.clone()\n",
    "        ref_V_boundary_stiffness = V_boundary_stiffness.clone()\n",
    "        energy = get_energy_boundary(softbody, softbody.V, ref_V_boundary_stiffness)\n",
    "        # set boundary energy that larger than 1e-8 as broken, 1e-5 is a eps to avoid divide 0\n",
    "        # 1e-8 is the threshold, if energy is larger than 1e-8, the first term will be 0 and the last term will be 1e-5 * 1.\n",
    "        V_boundary_stiffness = ref_V_boundary_stiffness * torch.sigmoid(1e10 * (1e-8 - energy)) + 1e-5*torch.sigmoid(1e10 * (energy - 1e-8))\n",
    "        mesh.points = softbody.V[-600:].detach().cpu().numpy()\n",
    "    \n",
    "    #optimize\n",
    "    loss = loss_fn(target, V_boundary_stiffness)\n",
    "    loss.backward()\n",
    "    print(spline_control.grad)\n",
    "    optimizer.step()\n",
    "    optimizer.zero_grad()\n",
    "    # pl.write_frame()\n",
    "# pl.close()\n"
   ]
  },
  {
   "cell_type": "code",
   "execution_count": 17,
   "metadata": {},
   "outputs": [
    {
     "name": "stdout",
     "output_type": "stream",
     "text": [
      "\n"
     ]
    }
   ],
   "source": [
    "step_ref = XPBDStep(softbody,\n",
    "                    V_dist_stiffness=V_dist_stiffness, \n",
    "                    V_shape_stiffness=None,\n",
    "                    V_boundary_stiffness=V_boundary_stiffness, \n",
    "                    dt=cfg.dt,\n",
    "                    substep=cfg.substep,\n",
    "                    iteration=cfg.iteration,\n",
    "                    quasi_static=cfg.quasi_static,\n",
    "                    plane_height=cfg.ground_plane_height, \n",
    "                    use_shape_matching=cfg.use_shape_matching,\n",
    "                    use_spring_boundary=cfg.use_spring_boundary,\n",
    "                    use_dist=True) #cfg.use_spring_boundary"
   ]
  },
  {
   "cell_type": "code",
   "execution_count": 18,
   "metadata": {},
   "outputs": [
    {
     "data": {
      "text/plain": [
       "[tensor([ 600,  601,  602,  603,  604,  605,  606,  607,  608,  609,  610,  611,\n",
       "          612,  613,  614,  615,  616,  617,  618,  619,  620,  621,  622,  623,\n",
       "          624,  625,  626,  627,  628,  629,  630,  631,  632,  633,  634,  635,\n",
       "          636,  637,  638,  639,  640,  641,  642,  643,  644,  645,  646,  647,\n",
       "          648,  649,  650,  651,  652,  653,  654,  655,  656,  657,  658,  659,\n",
       "          660,  661,  662,  663,  664,  665,  666,  667,  668,  669,  670,  671,\n",
       "          672,  673,  674,  675,  676,  677,  678,  679,  680,  681,  682,  683,\n",
       "          684,  685,  686,  687,  688,  689,  690,  691,  692,  693,  694,  695,\n",
       "          696,  697,  698,  699,  700,  701,  702,  703,  704,  705,  706,  707,\n",
       "          708,  709,  710,  711,  712,  713,  714,  715,  716,  717,  718,  719,\n",
       "          720,  721,  722,  723,  724,  725,  726,  727,  728,  729,  730,  731,\n",
       "          732,  733,  734,  735,  736,  737,  738,  739,  740,  741,  742,  743,\n",
       "          744,  745,  746,  747,  748,  749,  750,  751,  752,  753,  754,  755,\n",
       "          756,  757,  758,  759,  760,  761,  762,  763,  764,  765,  766,  767,\n",
       "          768,  769,  770,  771,  772,  773,  774,  775,  776,  777,  778,  779,\n",
       "          780,  781,  782,  783,  784,  785,  786,  787,  788,  789,  790,  791,\n",
       "          792,  793,  794,  795,  796,  797,  798,  799,  800,  801,  802,  803,\n",
       "          804,  805,  806,  807,  808,  809,  810,  811,  812,  813,  814,  815,\n",
       "          816,  817,  818,  819,  820,  821,  822,  823,  824,  825,  826,  827,\n",
       "          828,  829,  830,  831,  832,  833,  834,  835,  836,  837,  838,  839,\n",
       "          840,  841,  842,  843,  844,  845,  846,  847,  848,  849,  850,  851,\n",
       "          852,  853,  854,  855,  856,  857,  858,  859,  860,  861,  862,  863,\n",
       "          864,  865,  866,  867,  868,  869,  870,  871,  872,  873,  874,  875,\n",
       "          876,  877,  878,  879,  880,  881,  882,  883,  884,  885,  886,  887,\n",
       "          888,  889,  890,  891,  892,  893,  894,  895,  896,  897,  898,  899,\n",
       "          900,  901,  902,  903,  904,  905,  906,  907,  908,  909,  910,  911,\n",
       "          912,  913,  914,  915,  916,  917,  918,  919,  920,  921,  922,  923,\n",
       "          924,  925,  926,  927,  928,  929,  930,  931,  932,  933,  934,  935,\n",
       "          936,  937,  938,  939,  940,  941,  942,  943,  944,  945,  946,  947,\n",
       "          948,  949,  950,  951,  952,  953,  954,  955,  956,  957,  958,  959,\n",
       "          960,  961,  962,  963,  964,  965,  966,  967,  968,  969,  970,  971,\n",
       "          972,  973,  974,  975,  976,  977,  978,  979,  980,  981,  982,  983,\n",
       "          984,  985,  986,  987,  988,  989,  990,  991,  992,  993,  994,  995,\n",
       "          996,  997,  998,  999, 1000, 1001, 1002, 1003, 1004, 1005, 1006, 1007,\n",
       "         1008, 1009, 1010, 1011, 1012, 1013, 1014, 1015, 1016, 1017, 1018, 1019,\n",
       "         1020, 1021, 1022, 1023, 1024, 1025, 1026, 1027, 1028, 1029, 1030, 1031,\n",
       "         1032, 1033, 1034, 1035, 1036, 1037, 1038, 1039, 1040, 1041, 1042, 1043,\n",
       "         1044, 1045, 1046, 1047, 1048, 1049, 1050, 1051, 1052, 1053, 1054, 1055,\n",
       "         1056, 1057, 1058, 1059, 1060, 1061, 1062, 1063, 1064, 1065, 1066, 1067,\n",
       "         1068, 1069, 1070, 1071, 1072, 1073, 1074, 1075, 1076, 1077, 1078, 1079,\n",
       "         1080, 1081, 1082, 1083, 1084, 1085, 1086, 1087, 1088, 1089, 1090, 1091,\n",
       "         1092, 1093, 1094, 1095, 1096, 1097, 1098, 1099, 1100, 1101, 1102, 1103,\n",
       "         1104, 1105, 1106, 1107, 1108, 1109, 1110, 1111, 1112, 1113, 1114, 1115,\n",
       "         1116, 1117, 1118, 1119, 1120, 1121, 1122, 1123, 1124, 1125, 1126, 1127,\n",
       "         1128, 1129, 1130, 1131, 1132, 1133, 1134, 1135, 1136, 1137, 1138, 1139,\n",
       "         1140, 1141, 1142, 1143, 1144, 1145, 1146, 1147, 1148, 1149, 1150, 1151,\n",
       "         1152, 1153, 1154, 1155, 1156, 1157, 1158, 1159, 1160, 1161, 1162, 1163,\n",
       "         1164, 1165, 1166, 1167, 1168, 1169, 1170, 1171, 1172, 1173, 1174, 1175,\n",
       "         1176, 1177, 1178, 1179, 1180, 1181, 1182, 1183, 1184, 1185, 1186, 1187,\n",
       "         1188, 1189, 1190, 1191, 1192, 1193, 1194, 1195, 1196, 1197, 1198, 1199])]"
      ]
     },
     "execution_count": 18,
     "metadata": {},
     "output_type": "execute_result"
    }
   ],
   "source": [
    "softbody.C_boundary_V_0"
   ]
  },
  {
   "cell_type": "code",
   "execution_count": 19,
   "metadata": {},
   "outputs": [
    {
     "data": {
      "text/plain": [
       "[project_C_dist(),\n",
       " project_C_dist(),\n",
       " project_C_dist(),\n",
       " project_C_dist(),\n",
       " project_C_dist(),\n",
       " project_C_dist(),\n",
       " project_C_dist(),\n",
       " project_C_dist(),\n",
       " project_C_dist(),\n",
       " project_C_dist(),\n",
       " project_C_dist(),\n",
       " project_C_dist(),\n",
       " project_C_dist(),\n",
       " project_C_dist(),\n",
       " project_C_dist(),\n",
       " project_C_dist(),\n",
       " project_C_dist(),\n",
       " project_C_dist(),\n",
       " project_C_spring_boundary()]"
      ]
     },
     "execution_count": 19,
     "metadata": {},
     "output_type": "execute_result"
    }
   ],
   "source": [
    "step_ref.project_list"
   ]
  },
  {
   "cell_type": "code",
   "execution_count": 20,
   "metadata": {},
   "outputs": [
    {
     "name": "stdout",
     "output_type": "stream",
     "text": [
      "torch.Size([3, 23])\n"
     ]
    },
    {
     "name": "stderr",
     "output_type": "stream",
     "text": [
      "  0%|          | 0/23 [00:00<?, ?it/s]"
     ]
    },
    {
     "name": "stdout",
     "output_type": "stream",
     "text": [
      "\n"
     ]
    },
    {
     "name": "stderr",
     "output_type": "stream",
     "text": [
      "  4%|▍         | 1/23 [00:01<00:32,  1.46s/it]"
     ]
    },
    {
     "name": "stdout",
     "output_type": "stream",
     "text": [
      "\n"
     ]
    },
    {
     "name": "stderr",
     "output_type": "stream",
     "text": [
      "  9%|▊         | 2/23 [00:02<00:28,  1.34s/it]"
     ]
    },
    {
     "name": "stdout",
     "output_type": "stream",
     "text": [
      "\n"
     ]
    },
    {
     "name": "stderr",
     "output_type": "stream",
     "text": [
      " 13%|█▎        | 3/23 [00:03<00:26,  1.30s/it]"
     ]
    },
    {
     "name": "stdout",
     "output_type": "stream",
     "text": [
      "\n"
     ]
    },
    {
     "name": "stderr",
     "output_type": "stream",
     "text": [
      " 17%|█▋        | 4/23 [00:05<00:24,  1.30s/it]"
     ]
    },
    {
     "name": "stdout",
     "output_type": "stream",
     "text": [
      "\n"
     ]
    },
    {
     "name": "stderr",
     "output_type": "stream",
     "text": [
      " 22%|██▏       | 5/23 [00:06<00:22,  1.23s/it]"
     ]
    },
    {
     "name": "stdout",
     "output_type": "stream",
     "text": [
      "\n"
     ]
    },
    {
     "name": "stderr",
     "output_type": "stream",
     "text": [
      " 26%|██▌       | 6/23 [00:07<00:21,  1.25s/it]"
     ]
    },
    {
     "name": "stdout",
     "output_type": "stream",
     "text": [
      "\n"
     ]
    },
    {
     "name": "stderr",
     "output_type": "stream",
     "text": [
      " 30%|███       | 7/23 [00:08<00:19,  1.20s/it]"
     ]
    },
    {
     "name": "stdout",
     "output_type": "stream",
     "text": [
      "\n"
     ]
    },
    {
     "name": "stderr",
     "output_type": "stream",
     "text": [
      " 35%|███▍      | 8/23 [00:10<00:18,  1.24s/it]"
     ]
    },
    {
     "name": "stdout",
     "output_type": "stream",
     "text": [
      "\n"
     ]
    },
    {
     "name": "stderr",
     "output_type": "stream",
     "text": [
      " 39%|███▉      | 9/23 [00:11<00:16,  1.20s/it]"
     ]
    },
    {
     "name": "stdout",
     "output_type": "stream",
     "text": [
      "\n"
     ]
    },
    {
     "name": "stderr",
     "output_type": "stream",
     "text": [
      " 43%|████▎     | 10/23 [00:12<00:15,  1.18s/it]"
     ]
    },
    {
     "name": "stdout",
     "output_type": "stream",
     "text": [
      "\n"
     ]
    },
    {
     "name": "stderr",
     "output_type": "stream",
     "text": [
      " 48%|████▊     | 11/23 [00:13<00:14,  1.22s/it]"
     ]
    },
    {
     "name": "stdout",
     "output_type": "stream",
     "text": [
      "\n"
     ]
    },
    {
     "name": "stderr",
     "output_type": "stream",
     "text": [
      " 52%|█████▏    | 12/23 [00:14<00:13,  1.19s/it]"
     ]
    },
    {
     "name": "stdout",
     "output_type": "stream",
     "text": [
      "\n"
     ]
    },
    {
     "name": "stderr",
     "output_type": "stream",
     "text": [
      " 57%|█████▋    | 13/23 [00:15<00:11,  1.17s/it]"
     ]
    },
    {
     "name": "stdout",
     "output_type": "stream",
     "text": [
      "\n"
     ]
    },
    {
     "name": "stderr",
     "output_type": "stream",
     "text": [
      " 61%|██████    | 14/23 [00:17<00:10,  1.16s/it]"
     ]
    },
    {
     "name": "stdout",
     "output_type": "stream",
     "text": [
      "\n"
     ]
    },
    {
     "name": "stderr",
     "output_type": "stream",
     "text": [
      " 65%|██████▌   | 15/23 [00:18<00:09,  1.21s/it]"
     ]
    },
    {
     "name": "stdout",
     "output_type": "stream",
     "text": [
      "\n"
     ]
    },
    {
     "name": "stderr",
     "output_type": "stream",
     "text": [
      " 70%|██████▉   | 16/23 [00:19<00:08,  1.19s/it]"
     ]
    },
    {
     "name": "stdout",
     "output_type": "stream",
     "text": [
      "\n"
     ]
    },
    {
     "name": "stderr",
     "output_type": "stream",
     "text": [
      " 74%|███████▍  | 17/23 [00:20<00:07,  1.17s/it]"
     ]
    },
    {
     "name": "stdout",
     "output_type": "stream",
     "text": [
      "\n"
     ]
    },
    {
     "name": "stderr",
     "output_type": "stream",
     "text": [
      " 78%|███████▊  | 18/23 [00:21<00:05,  1.17s/it]"
     ]
    },
    {
     "name": "stdout",
     "output_type": "stream",
     "text": [
      "\n"
     ]
    },
    {
     "name": "stderr",
     "output_type": "stream",
     "text": [
      " 83%|████████▎ | 19/23 [00:23<00:04,  1.23s/it]"
     ]
    },
    {
     "name": "stdout",
     "output_type": "stream",
     "text": [
      "\n"
     ]
    },
    {
     "name": "stderr",
     "output_type": "stream",
     "text": [
      " 87%|████████▋ | 20/23 [00:24<00:03,  1.21s/it]"
     ]
    },
    {
     "name": "stdout",
     "output_type": "stream",
     "text": [
      "\n"
     ]
    },
    {
     "name": "stderr",
     "output_type": "stream",
     "text": [
      " 91%|█████████▏| 21/23 [00:25<00:02,  1.19s/it]"
     ]
    },
    {
     "name": "stdout",
     "output_type": "stream",
     "text": [
      "\n"
     ]
    },
    {
     "name": "stderr",
     "output_type": "stream",
     "text": [
      " 96%|█████████▌| 22/23 [00:26<00:01,  1.17s/it]"
     ]
    },
    {
     "name": "stdout",
     "output_type": "stream",
     "text": [
      "\n"
     ]
    },
    {
     "name": "stderr",
     "output_type": "stream",
     "text": [
      "100%|██████████| 23/23 [00:27<00:00,  1.21s/it]\n"
     ]
    }
   ],
   "source": [
    "pl.open_gif('grape.gif')\n",
    "x_con = torch.cat((start_point[:, 0], spline_control[:, 0]))\n",
    "y_con = torch.cat((start_point[:, 1], spline_control[:, 1]))\n",
    "z_con = torch.cat((start_point[:, 2], spline_control[:, 2]))\n",
    "\n",
    "# spline_x = cubic_bezier(x_con, us)\n",
    "# spline_y = cubic_bezier(y_con, us)\n",
    "# spline_z = cubic_bezier(z_con, us)\n",
    "\n",
    "# spline_x = interp(u, x_con, us)\n",
    "# spline_y = interp(u, y_con, us)\n",
    "# spline_z = interp(u, z_con, us)\n",
    "\n",
    "spline = cubic_bezier_arc_3D(x_con, y_con, z_con, 0.00025)\n",
    "print(spline.shape)\n",
    "spline_x = spline[0]\n",
    "spline_y = spline[1]\n",
    "spline_z = spline[2]\n",
    "\n",
    "spline_trajectory = torch.transpose(torch.vstack((spline_x, spline_y, spline_z)), 0, 1)\n",
    "# reset for each test\n",
    "softbody.V = V_origin.clone()\n",
    "softbody.V_velocity = V_velocity_origin.clone()\n",
    "\n",
    "cloth_dist_stiffness = 1\n",
    "V_boundary_stiffness = 0.1\n",
    "V_dist_stiffness = torch.ones_like(softbody.V_mass).to(cfg.device)\n",
    "V_boundary_stiffness = torch.ones((softbody.C_boundary_list[0].shape[0], 1)).to(cfg.device) * V_boundary_stiffness\n",
    "energy_total = torch.zeros(1).to(cfg.device)\n",
    "for i in trange(spline_trajectory.shape[0]):\n",
    "    softbody.V[control_point] = spline_trajectory[i]\n",
    "    step_ref = XPBDStep(softbody,\n",
    "                    V_dist_stiffness=V_dist_stiffness, \n",
    "                    V_shape_stiffness=None,\n",
    "                    V_boundary_stiffness=V_boundary_stiffness, \n",
    "                    dt=cfg.dt,\n",
    "                    substep=cfg.substep,\n",
    "                    iteration=cfg.iteration,\n",
    "                    quasi_static=cfg.quasi_static,\n",
    "                    plane_height=cfg.ground_plane_height, \n",
    "                    use_shape_matching=cfg.use_shape_matching,\n",
    "                    use_spring_boundary=cfg.use_spring_boundary,\n",
    "                    use_dist=True) #cfg.use_spring_boundary\n",
    "    V_ref, V_velocity_ref = step_ref.forward(softbody.V, softbody.V_velocity)\n",
    "    softbody.V = V_ref.clone()\n",
    "    softbody.V_velocity = V_velocity_ref.clone()\n",
    "    ref_V_boundary_stiffness = V_boundary_stiffness.clone()\n",
    "    energy = get_energy_boundary(softbody, softbody.V, ref_V_boundary_stiffness)\n",
    "    # set boundary energy that larger than 1e-8 as broken, 1e-5 is a eps to avoid divide 0\n",
    "    # 1e-8 is the threshold, if energy is larger than 1e-8, the first term will be 0 and the last term will be 1e-5 * 1.\n",
    "    V_boundary_stiffness = ref_V_boundary_stiffness * torch.sigmoid(1e10 * (1e-8 - energy)) + 1e-5*torch.sigmoid(1e10 * (energy - 1e-8))\n",
    "    mesh.points = softbody.V[-600:].detach().cpu().numpy()\n",
    "    \n",
    "    pl.write_frame()\n",
    "pl.close()\n"
   ]
  }
 ],
 "metadata": {
  "kernelspec": {
   "display_name": "py_pbd",
   "language": "python",
   "name": "python3"
  },
  "language_info": {
   "codemirror_mode": {
    "name": "ipython",
    "version": 3
   },
   "file_extension": ".py",
   "mimetype": "text/x-python",
   "name": "python",
   "nbconvert_exporter": "python",
   "pygments_lexer": "ipython3",
   "version": "3.10.9"
  }
 },
 "nbformat": 4,
 "nbformat_minor": 2
}
