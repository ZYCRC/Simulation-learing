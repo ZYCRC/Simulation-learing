{
 "cells": [
  {
   "cell_type": "code",
   "execution_count": 1,
   "metadata": {},
   "outputs": [],
   "source": [
    "from xpbd_softbody import XPBDSoftbody\n",
    "import pyvista as pv\n",
    "import config as cfg\n",
    "import matplotlib.pyplot as plt\n",
    "import torch\n",
    "from xpbd_softbody_layer import XPBDStep\n",
    "import numpy as np\n",
    "from sklearn.neighbors import KDTree\n",
    "from xpbd_softbody_layer import get_energy_boundary\n",
    "from scipy.interpolate import interp1d\n",
    "from cubic_bezier import *\n",
    "from tqdm import trange\n",
    "from torchviz import make_dot\n",
    "import os\n",
    "from tqdm import trange"
   ]
  },
  {
   "cell_type": "code",
   "execution_count": 2,
   "metadata": {},
   "outputs": [
    {
     "name": "stdout",
     "output_type": "stream",
     "text": [
      "detect 2 object\n"
     ]
    }
   ],
   "source": [
    "path='../assets'\n",
    "softbody = XPBDSoftbody()\n",
    "mesh = softbody.add_thinshell(pv.read(os.path.join(path, 'grape_skin.ply')), n_surf=cfg.n_surf)\n",
    "mesh = softbody.add_thinshell(pv.read(os.path.join(path, 'grape_skin.ply')), n_surf=cfg.n_surf)\n",
    "# mesh = softbody.add_thinshell(pv.Plane(), n_surf=cfg.n_surf)\n",
    "softbody.init_states()\n",
    "softbody.init_dist_constraints()\n",
    "\n",
    "softbody.add_multi_boundary_constrain(1, 0, 0.0006, range(600))\n",
    "softbody.fix_indice(0, range(600))"
   ]
  },
  {
   "cell_type": "code",
   "execution_count": 3,
   "metadata": {},
   "outputs": [
    {
     "data": {
      "text/plain": [
       "torch.Size([690, 2])"
      ]
     },
     "execution_count": 3,
     "metadata": {},
     "output_type": "execute_result"
    }
   ],
   "source": [
    "softbody.C_boundary_list[0].shape"
   ]
  },
  {
   "cell_type": "code",
   "execution_count": 4,
   "metadata": {},
   "outputs": [],
   "source": [
    "V_origin = softbody.V.clone()\n",
    "V_velocity_origin = softbody.V_velocity.clone()"
   ]
  },
  {
   "cell_type": "code",
   "execution_count": 5,
   "metadata": {},
   "outputs": [],
   "source": [
    "# stiffness setting\n",
    "cloth_dist_stiffness = 1\n",
    "V_boundary_stiffness = 0.1\n",
    "V_dist_stiffness = torch.ones_like(softbody.V_mass).to(cfg.device)\n",
    "V_boundary_stiffness = torch.ones((softbody.C_boundary_list[0].shape[0], 1)).to(cfg.device) * V_boundary_stiffness"
   ]
  },
  {
   "cell_type": "code",
   "execution_count": 6,
   "metadata": {},
   "outputs": [
    {
     "data": {
      "text/plain": [
       "torch.Size([690, 1])"
      ]
     },
     "execution_count": 6,
     "metadata": {},
     "output_type": "execute_result"
    }
   ],
   "source": [
    "V_boundary_stiffness.shape"
   ]
  },
  {
   "cell_type": "code",
   "execution_count": 7,
   "metadata": {},
   "outputs": [],
   "source": [
    "u = torch.linspace(0, 1, 3).to(cfg.device)\n",
    "us = torch.linspace(0, 1, 50).to(cfg.device)\n",
    "start_point = np.array([[0.000224, 0.010794, -0.001233]])\n",
    "start_point = torch.from_numpy(start_point).to(cfg.device)\n",
    "# spline_control = np.array([ [0.000224, 0.010794, 0.003],\n",
    "#                             [0.000224, 0.010794, 0.006],\n",
    "#                             [0.000224, 0.010794, 0.009]])\n",
    "spline_control = np.array([ [0.000224, 0.009794, 0.001],\n",
    "                            [0.000224, 0.008794, 0.0020],\n",
    "                            [0.000224, 0.007794, 0.0035]])\n",
    "spline_control = torch.from_numpy(spline_control).to(cfg.device)"
   ]
  },
  {
   "cell_type": "code",
   "execution_count": 8,
   "metadata": {},
   "outputs": [],
   "source": [
    "control_point = 31 + softbody.offset_list[1]\n",
    "softbody.fix_point(1, 31)"
   ]
  },
  {
   "cell_type": "code",
   "execution_count": 9,
   "metadata": {},
   "outputs": [
    {
     "data": {
      "text/plain": [
       "torch.Size([690, 1])"
      ]
     },
     "execution_count": 9,
     "metadata": {},
     "output_type": "execute_result"
    }
   ],
   "source": [
    "V_boundary_stiffness.shape"
   ]
  },
  {
   "cell_type": "code",
   "execution_count": 10,
   "metadata": {},
   "outputs": [
    {
     "data": {
      "text/plain": [
       "Actor (0x7fe25a4fd7e0)\n",
       "  Center:                     (-9.851530194282532e-06, 0.0014494163915514946, -0.0009795548299327494)\n",
       "  Pickable:                   True\n",
       "  Position:                   (0.0, 0.0, 0.0)\n",
       "  Scale:                      (1.0, 1.0, 1.0)\n",
       "  Visible:                    True\n",
       "  X Bounds                    -6.636E-03, 6.616E-03\n",
       "  Y Bounds                    -1.040E-02, 1.330E-02\n",
       "  Z Bounds                    -3.189E-03, 1.230E-03\n",
       "  User matrix:                Set\n",
       "  Has mapper:                 True\n",
       "\n",
       "Property (0x7fe25a4fdc00)\n",
       "  Ambient:                     0.0\n",
       "  Ambient color:               Color(hex='#c0ab5eff', opacity=255)\n",
       "  Anisotropy:                  0.0\n",
       "  Color:                       Color(hex='#c0ab5eff', opacity=255)\n",
       "  Culling:                     \"none\"\n",
       "  Diffuse:                     1.0\n",
       "  Diffuse color:               Color(hex='#c0ab5eff', opacity=255)\n",
       "  Edge color:                  Color(name='black', hex='#000000ff', opacity=255)\n",
       "  Edge opacity:                1.0\n",
       "  Interpolation:               0\n",
       "  Lighting:                    False\n",
       "  Line width:                  1.0\n",
       "  Metallic:                    0.0\n",
       "  Opacity:                     1.0\n",
       "  Point size:                  5.0\n",
       "  Render lines as tubes:       False\n",
       "  Render points as spheres:    False\n",
       "  Roughness:                   0.5\n",
       "  Show edges:                  False\n",
       "  Specular:                    0.0\n",
       "  Specular color:              Color(hex='#c0ab5eff', opacity=255)\n",
       "  Specular power:              100.0\n",
       "  Style:                       \"Surface\"\n",
       "\n",
       "DataSetMapper (0x7fe25a4fd300)\n",
       "  Scalar visibility:           False\n",
       "  Scalar range:                (0.0, 1.0)\n",
       "  Interpolate before mapping:  True\n",
       "  Scalar map mode:             default\n",
       "  Color mode:                  direct\n",
       "\n",
       "Attached dataset:\n",
       "PolyData (0x7fe25a4fd720)\n",
       "  N Cells:    588\n",
       "  N Points:   380\n",
       "  N Strips:   0\n",
       "  X Bounds:   -6.636e-03, 6.616e-03\n",
       "  Y Bounds:   -1.040e-02, 1.330e-02\n",
       "  Z Bounds:   -3.189e-03, 1.230e-03\n",
       "  N Arrays:   0"
      ]
     },
     "execution_count": 10,
     "metadata": {},
     "output_type": "execute_result"
    }
   ],
   "source": [
    "pv.set_plot_theme('document')\n",
    "pl = pv.Plotter()\n",
    "\n",
    "# skin being peeled\n",
    "pl.add_mesh(mesh, color='#9f5547ff', show_edges=True, edge_color='#b37164ff',  lighting=False,style='surface')\n",
    "# ellipsoid grape\n",
    "grape = pv.read('../assets/grape.ply')\n",
    "grape.points = grape.points - np.array([0, 0, 1e-4])\n",
    "pl.add_mesh(grape, color='#9f5547ff', show_edges=False, lighting=False,style='surface')\n",
    "\n",
    "# grape meat that is green\n",
    "grape_meat= pv.read('../assets/grape_skin.ply')\n",
    "grape_meat.points = grape_meat.points - np.array([0, 0, 2e-4])\n",
    "pl.add_mesh(grape_meat, color='#c0ab5eff', show_edges=False, lighting=False,style='surface')"
   ]
  },
  {
   "cell_type": "code",
   "execution_count": 11,
   "metadata": {},
   "outputs": [
    {
     "data": {
      "text/plain": [
       "tensor([[0.0002, 0.0098, 0.0010],\n",
       "        [0.0002, 0.0088, 0.0020],\n",
       "        [0.0002, 0.0078, 0.0035]], dtype=torch.float64, requires_grad=True)"
      ]
     },
     "execution_count": 11,
     "metadata": {},
     "output_type": "execute_result"
    }
   ],
   "source": [
    "# setup opt para\n",
    "spline_control.requires_grad_(True)"
   ]
  },
  {
   "cell_type": "code",
   "execution_count": 12,
   "metadata": {},
   "outputs": [],
   "source": [
    "optimizer = torch.optim.Adam([spline_control], lr = 0.001)"
   ]
  },
  {
   "cell_type": "code",
   "execution_count": 13,
   "metadata": {},
   "outputs": [],
   "source": [
    "## point position target\n",
    "# target = torch.tensor([0.01, 0.01, 0.01])\n",
    "# target_point = 25 + softbody.offset_list[1]"
   ]
  },
  {
   "cell_type": "code",
   "execution_count": 14,
   "metadata": {},
   "outputs": [],
   "source": [
    "## stiffness target\n",
    "target = torch.ones_like(V_boundary_stiffness) * 1e-5"
   ]
  },
  {
   "cell_type": "code",
   "execution_count": 15,
   "metadata": {},
   "outputs": [],
   "source": [
    "def loss_fn(target, pred):\n",
    "    return torch.norm(target - pred)"
   ]
  },
  {
   "cell_type": "code",
   "execution_count": 16,
   "metadata": {},
   "outputs": [
    {
     "name": "stdout",
     "output_type": "stream",
     "text": [
      "torch.Size([3, 23])\n"
     ]
    },
    {
     "name": "stderr",
     "output_type": "stream",
     "text": [
      "  0%|          | 0/23 [00:00<?, ?it/s]"
     ]
    },
    {
     "name": "stderr",
     "output_type": "stream",
     "text": [
      "100%|██████████| 23/23 [00:38<00:00,  1.69s/it]\n"
     ]
    },
    {
     "name": "stdout",
     "output_type": "stream",
     "text": [
      "tensor([[ 0.0122, -0.0118,  0.0161],\n",
      "        [ 0.0244, -0.0202, -0.0193],\n",
      "        [ 0.0051, -0.0138, -0.0202]], dtype=torch.float64)\n",
      "torch.Size([3, 26])\n"
     ]
    },
    {
     "name": "stderr",
     "output_type": "stream",
     "text": [
      " 27%|██▋       | 7/26 [00:12<00:33,  1.75s/it]Exception ignored in: <bound method IPythonKernel._clean_thread_parent_frames of <ipykernel.ipkernel.IPythonKernel object at 0x7fe354680e20>>\n",
      "Traceback (most recent call last):\n",
      "  File \"/home/youcheng/anaconda3/envs/py_pbd/lib/python3.10/site-packages/ipykernel/ipkernel.py\", line 770, in _clean_thread_parent_frames\n",
      "    def _clean_thread_parent_frames(\n",
      "KeyboardInterrupt: \n",
      " 54%|█████▍    | 14/26 [00:25<00:21,  1.79s/it]"
     ]
    }
   ],
   "source": [
    "# pl.open_gif('grape.gif')\n",
    "for t in range(10):\n",
    "    x_con = torch.cat((start_point[:, 0], spline_control[:, 0]))\n",
    "    y_con = torch.cat((start_point[:, 1], spline_control[:, 1]))\n",
    "    z_con = torch.cat((start_point[:, 2], spline_control[:, 2]))\n",
    "\n",
    "    spline = cubic_bezier_arc_3D(x_con, y_con, z_con, 0.00025)\n",
    "    print(spline.shape)\n",
    "    spline_x = spline[0]\n",
    "    spline_y = spline[1]\n",
    "    spline_z = spline[2]\n",
    "\n",
    "    spline_trajectory = torch.transpose(torch.vstack((spline_x, spline_y, spline_z)), 0, 1)\n",
    "    # reset for each test\n",
    "    softbody.V = V_origin.clone()\n",
    "    softbody.V_velocity = V_velocity_origin.clone()\n",
    "\n",
    "    cloth_dist_stiffness = 1\n",
    "    V_boundary_stiffness = 0.1\n",
    "    V_dist_stiffness = torch.ones_like(softbody.V_mass).to(cfg.device)\n",
    "    V_boundary_stiffness = torch.ones((softbody.C_boundary_list[0].shape[0], 1)).to(cfg.device) * V_boundary_stiffness\n",
    "    energy_total = torch.zeros(1).to(cfg.device)\n",
    "    for i in trange(spline_trajectory.shape[0]):\n",
    "        softbody.V[control_point] = spline_trajectory[i]\n",
    "        step_ref = XPBDStep(softbody,\n",
    "                        V_dist_stiffness=V_dist_stiffness, \n",
    "                        V_shape_stiffness=None,\n",
    "                        V_boundary_stiffness=V_boundary_stiffness, \n",
    "                        dt=cfg.dt,\n",
    "                        substep=cfg.substep,\n",
    "                        iteration=cfg.iteration,\n",
    "                        quasi_static=cfg.quasi_static,\n",
    "                        plane_height=cfg.ground_plane_height, \n",
    "                        use_shape_matching=cfg.use_shape_matching,\n",
    "                        use_spring_boundary=cfg.use_spring_boundary,\n",
    "                        use_dist=True) #cfg.use_spring_boundary\n",
    "        V_ref, V_velocity_ref = step_ref.forward(softbody.V, softbody.V_velocity)\n",
    "        softbody.V = V_ref.clone()\n",
    "        softbody.V_velocity = V_velocity_ref.clone()\n",
    "        ref_V_boundary_stiffness = V_boundary_stiffness.clone()\n",
    "        energy = get_energy_boundary(softbody, softbody.V, ref_V_boundary_stiffness)\n",
    "        # set boundary energy that larger than 1e-8 as broken, 1e-5 is a eps to avoid divide 0\n",
    "        # 1e-8 is the threshold, if energy is larger than 1e-8, the first term will be 0 and the last term will be 1e-5 * 1.\n",
    "        V_boundary_stiffness = ref_V_boundary_stiffness * torch.sigmoid(1e10 * (1e-8 - energy)) + 1e-5*torch.sigmoid(1e10 * (energy - 1e-8))\n",
    "        mesh.points = softbody.V[-600:].detach().cpu().numpy()\n",
    "    \n",
    "    #optimize\n",
    "    loss = loss_fn(target, V_boundary_stiffness)\n",
    "    loss.backward()\n",
    "    print(spline_control.grad)\n",
    "    optimizer.step()\n",
    "    optimizer.zero_grad()\n",
    "    # pl.write_frame()\n",
    "# pl.close()\n"
   ]
  },
  {
   "cell_type": "code",
   "execution_count": null,
   "metadata": {},
   "outputs": [
    {
     "name": "stdout",
     "output_type": "stream",
     "text": [
      "torch.Size([3, 23])\n"
     ]
    },
    {
     "name": "stderr",
     "output_type": "stream",
     "text": [
      "  0%|          | 0/23 [00:00<?, ?it/s]"
     ]
    },
    {
     "name": "stderr",
     "output_type": "stream",
     "text": [
      "100%|██████████| 23/23 [00:49<00:00,  2.14s/it]\n"
     ]
    }
   ],
   "source": [
    "# pl.open_gif('grape.gif')\n",
    "# x_con = torch.cat((start_point[:, 0], spline_control[:, 0]))\n",
    "# y_con = torch.cat((start_point[:, 1], spline_control[:, 1]))\n",
    "# z_con = torch.cat((start_point[:, 2], spline_control[:, 2]))\n",
    "\n",
    "# # spline_x = cubic_bezier(x_con, us)\n",
    "# # spline_y = cubic_bezier(y_con, us)\n",
    "# # spline_z = cubic_bezier(z_con, us)\n",
    "\n",
    "# # spline_x = interp(u, x_con, us)\n",
    "# # spline_y = interp(u, y_con, us)\n",
    "# # spline_z = interp(u, z_con, us)\n",
    "\n",
    "# spline = cubic_bezier_arc_3D(x_con, y_con, z_con, 0.00025)\n",
    "# print(spline.shape)\n",
    "# spline_x = spline[0]\n",
    "# spline_y = spline[1]\n",
    "# spline_z = spline[2]\n",
    "\n",
    "# spline_trajectory = torch.transpose(torch.vstack((spline_x, spline_y, spline_z)), 0, 1)\n",
    "# # reset for each test\n",
    "# softbody.V = V_origin.clone()\n",
    "# softbody.V_velocity = V_velocity_origin.clone()\n",
    "\n",
    "# cloth_dist_stiffness = 1\n",
    "# V_boundary_stiffness = 0.1\n",
    "# V_dist_stiffness = torch.ones_like(softbody.V_mass).to(cfg.device)\n",
    "# V_boundary_stiffness = torch.ones((softbody.C_boundary_list[0].shape[0], 1)).to(cfg.device) * V_boundary_stiffness\n",
    "# energy_total = torch.zeros(1).to(cfg.device)\n",
    "# for i in trange(spline_trajectory.shape[0]):\n",
    "#     softbody.V[control_point] = spline_trajectory[i]\n",
    "#     step_ref = XPBDStep(softbody,\n",
    "#                     V_dist_stiffness=V_dist_stiffness, \n",
    "#                     V_shape_stiffness=None,\n",
    "#                     V_boundary_stiffness=V_boundary_stiffness, \n",
    "#                     dt=cfg.dt,\n",
    "#                     substep=cfg.substep,\n",
    "#                     iteration=cfg.iteration,\n",
    "#                     quasi_static=cfg.quasi_static,\n",
    "#                     plane_height=cfg.ground_plane_height, \n",
    "#                     use_shape_matching=cfg.use_shape_matching,\n",
    "#                     use_spring_boundary=cfg.use_spring_boundary,\n",
    "#                     use_dist=True) #cfg.use_spring_boundary\n",
    "#     V_ref, V_velocity_ref = step_ref.forward(softbody.V, softbody.V_velocity)\n",
    "#     softbody.V = V_ref.clone()\n",
    "#     softbody.V_velocity = V_velocity_ref.clone()\n",
    "#     ref_V_boundary_stiffness = V_boundary_stiffness.clone()\n",
    "#     energy = get_energy_boundary(softbody, softbody.V, ref_V_boundary_stiffness)\n",
    "#     # set boundary energy that larger than 1e-8 as broken, 1e-5 is a eps to avoid divide 0\n",
    "#     # 1e-8 is the threshold, if energy is larger than 1e-8, the first term will be 0 and the last term will be 1e-5 * 1.\n",
    "#     V_boundary_stiffness = ref_V_boundary_stiffness * torch.sigmoid(1e10 * (1e-8 - energy)) + 1e-5*torch.sigmoid(1e10 * (energy - 1e-8))\n",
    "#     mesh.points = softbody.V[-600:].detach().cpu().numpy()\n",
    "    \n",
    "#     pl.write_frame()\n",
    "# pl.close()\n"
   ]
  }
 ],
 "metadata": {
  "kernelspec": {
   "display_name": "py_pbd",
   "language": "python",
   "name": "python3"
  },
  "language_info": {
   "codemirror_mode": {
    "name": "ipython",
    "version": 3
   },
   "file_extension": ".py",
   "mimetype": "text/x-python",
   "name": "python",
   "nbconvert_exporter": "python",
   "pygments_lexer": "ipython3",
   "version": "3.10.9"
  }
 },
 "nbformat": 4,
 "nbformat_minor": 2
}
