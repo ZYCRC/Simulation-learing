{
 "cells": [
  {
   "cell_type": "code",
   "execution_count": 1,
   "metadata": {},
   "outputs": [],
   "source": [
    "from xpbd_softbody import XPBDSoftbody\n",
    "import pyvista as pv\n",
    "import config as cfg\n",
    "import matplotlib.pyplot as plt\n",
    "import torch\n",
    "from xpbd_softbody_layer import XPBDStep\n",
    "import numpy as np\n",
    "from sklearn.neighbors import KDTree\n",
    "from xpbd_softbody_layer import get_energy_boundary\n",
    "from scipy.interpolate import interp1d\n",
    "from cubic_bezier import *\n",
    "from tqdm import trange\n",
    "from torchviz import make_dot"
   ]
  },
  {
   "cell_type": "code",
   "execution_count": 2,
   "metadata": {},
   "outputs": [],
   "source": [
    "N_skin = 400\n",
    "N_bandage = 400\n",
    "control_trajectory = np.array([[0.0099, 0.0014, 0.0013],\n",
    "                               [0.0079, 0.0014, 0.0033],\n",
    "                               [0.0059, 0.0014, 0.0053],\n",
    "                               [0.0039, 0.0014, 0.0057],\n",
    "                               [0.0019, 0.0014, 0.0063],\n",
    "                               [-0.0039, 0.0014, 0.0063]])\n",
    "# control_trajectory = np.array([[-0.4677,  0.0367,  0.1300],\n",
    "#                                [-0.4677,  0.0367,  0.40],\n",
    "#                                [-0.4677,  0.0367,  0.60],\n",
    "#                                [-0.4677,  0.0367,  0.99]])"
   ]
  },
  {
   "cell_type": "code",
   "execution_count": 3,
   "metadata": {},
   "outputs": [],
   "source": [
    "# interpolate trajectory\n",
    "x = np.arange(control_trajectory.shape[0])\n",
    "xnew = np.linspace(x.min(), x.max(), 10 * control_trajectory.shape[0])  # 10 times denser\n",
    "f = interp1d(x, control_trajectory, axis=0, kind='cubic')\n",
    "control_trajectory = f(xnew)\n",
    "control_trajectory = torch.from_numpy(control_trajectory).to(cfg.device)"
   ]
  },
  {
   "cell_type": "code",
   "execution_count": 4,
   "metadata": {},
   "outputs": [
    {
     "name": "stdout",
     "output_type": "stream",
     "text": [
      "detect 2 object\n"
     ]
    }
   ],
   "source": [
    "# load data\n",
    "softbody = XPBDSoftbody()\n",
    "skin_mesh = softbody.add_thinshell(pv.Cube(center=(0, 0, 0), x_length=0.02, y_length=0.02, z_length=0.002), n_surf=N_skin)\n",
    "bandage_mesh = softbody.add_thinshell(pv.Cube(center=(0, 0, 0.002), x_length=0.02, y_length=0.02, z_length=0.002), n_surf=N_bandage)\n",
    "softbody.init_states()\n",
    "softbody.init_dist_constraints()\n",
    "softbody.init_shape_constraints_thinshell([1])\n",
    "softbody.add_multi_boundary_constrain(1, 0, 0.0025, range(200))\n",
    "softbody.fix_less_than(0, 0, 2)\n",
    "softbody.fix_point(1, 50)\n",
    "# softbody.fix_less_than(1, 0.002, 2)"
   ]
  },
  {
   "cell_type": "code",
   "execution_count": 5,
   "metadata": {},
   "outputs": [
    {
     "data": {
      "text/plain": [
       "tensor([[0.0000, 0.0000, 0.0000,  ..., 0.0000, 0.0000, 0.0000],\n",
       "        [0.0000, 0.0000, 0.0000,  ..., 0.0000, 0.0000, 0.0000],\n",
       "        [0.3333, 0.0000, 0.0000,  ..., 0.0000, 0.0000, 0.0000],\n",
       "        ...,\n",
       "        [0.0000, 0.0000, 0.0000,  ..., 0.0000, 0.0000, 0.0000],\n",
       "        [0.0000, 0.0000, 0.0000,  ..., 0.0000, 0.0000, 0.0000],\n",
       "        [0.0000, 0.0000, 0.0000,  ..., 0.0000, 0.0000, 0.0000]],\n",
       "       dtype=torch.float64)"
      ]
     },
     "execution_count": 5,
     "metadata": {},
     "output_type": "execute_result"
    }
   ],
   "source": [
    "softbody.C_boundary_mtx[0]"
   ]
  },
  {
   "cell_type": "code",
   "execution_count": 6,
   "metadata": {},
   "outputs": [],
   "source": [
    "# softbody.fix_point(1, 1)"
   ]
  },
  {
   "cell_type": "code",
   "execution_count": 7,
   "metadata": {},
   "outputs": [],
   "source": [
    "cloth_dist_stiffness = 1\n",
    "V_boundary_stiffness_ref = 0.1\n",
    "V_dist_stiffness = torch.ones_like(softbody.V_mass).to(cfg.device) * cloth_dist_stiffness\n",
    "V_boundary_stiffness = torch.ones((softbody.C_boundary_list[0].shape[0], 1)).to(cfg.device) * V_boundary_stiffness_ref\n",
    "V_shape_stiffness = torch.ones_like(softbody.V_mass).to(cfg.device)*0.0005"
   ]
  },
  {
   "cell_type": "code",
   "execution_count": 8,
   "metadata": {},
   "outputs": [],
   "source": [
    "filename = 'tissue2tissue_stiffness_' + str(V_boundary_stiffness_ref) + '.gif'\n",
    "stiffness_text = 'Boundary stiffness = ' + str(V_boundary_stiffness_ref)"
   ]
  },
  {
   "cell_type": "code",
   "execution_count": 9,
   "metadata": {},
   "outputs": [],
   "source": [
    "pl = pv.Plotter()\n",
    "pl.add_mesh(skin_mesh, color='#ffdbac', show_edges=True, edge_color='#b37164ff',  lighting=False,style='surface', label='Deformable object 1')\n",
    "pl.add_mesh(bandage_mesh, color='#D5A97D', show_edges=True, edge_color='#b37164ff',  lighting=False,style='surface', label='Deformable object 2')\n",
    "pl.add_lines(control_trajectory.cpu().numpy(), connected=True, color='r')\n",
    "pl.add_text(stiffness_text)\n",
    "# pl.add_mesh(bandage_mesh, scalars=color, show_edges=True, edge_color='#b37164ff',  lighting=False,style='surface', label='Bandage')\n",
    "pl.add_legend()\n",
    "pl.camera_position = 'iso'"
   ]
  },
  {
   "cell_type": "code",
   "execution_count": 10,
   "metadata": {},
   "outputs": [
    {
     "name": "stderr",
     "output_type": "stream",
     "text": [
      "  0%|          | 0/60 [00:00<?, ?it/s]"
     ]
    },
    {
     "name": "stderr",
     "output_type": "stream",
     "text": [
      "100%|██████████| 60/60 [00:15<00:00,  3.99it/s]\n"
     ]
    }
   ],
   "source": [
    "pl.open_gif(filename)\n",
    "for i in trange(control_trajectory.shape[0]):\n",
    "    # print(i)\n",
    "    softbody.V[softbody.offset_list[1] + 50] = control_trajectory[i]\n",
    "    step_ref = XPBDStep(softbody,\n",
    "                V_dist_stiffness=V_dist_stiffness, \n",
    "                V_shape_stiffness=V_shape_stiffness,\n",
    "                V_boundary_stiffness=V_boundary_stiffness, \n",
    "                dt=cfg.dt,\n",
    "                substep=cfg.substep,\n",
    "                iteration=cfg.iteration,\n",
    "                quasi_static=cfg.quasi_static,\n",
    "                plane_height=cfg.ground_plane_height, \n",
    "                use_shape_matching=False,\n",
    "                use_spring_boundary=True,\n",
    "                use_dist=True) #cfg.use_spring_boundary\n",
    "    V_ref, V_velocity_ref = step_ref.forward(softbody.V, softbody.V_velocity)\n",
    "    softbody.V = V_ref.clone()\n",
    "    softbody.V_velocity = V_velocity_ref.clone()\n",
    "    energy = get_energy_boundary(softbody, softbody.V, V_boundary_stiffness)\n",
    "    # V_boundary_stiffness[energy.squeeze() > 0.5] = 1e-8\n",
    "\n",
    "    V_boundary_stiffness = V_boundary_stiffness * torch.sigmoid(2e9 * (1e-8 - energy)) + 1e-8 * torch.sigmoid(1e9 * (energy - 1e-8))\n",
    "    # print(1e-8 * torch.sigmoid(1e9 * (energy - 1e-8)))\n",
    "    skin_mesh.points = softbody.V[:N_skin].cpu().numpy()\n",
    "    bandage_mesh.points = softbody.V[N_skin:N_bandage+N_skin].cpu().numpy()\n",
    "    # pl.remove_actor(bandage_actor)\n",
    "    # bandage_actor = pl.add_points(softbody.V[N_skin:N_skin+N_bandage].cpu().numpy(), color='r')\n",
    "    pl.write_frame()\n",
    "    # pl.show(interactive_update=True)\n",
    "    # pl.show()\n",
    "pl.close()"
   ]
  }
 ],
 "metadata": {
  "kernelspec": {
   "display_name": "py_pbd",
   "language": "python",
   "name": "python3"
  },
  "language_info": {
   "codemirror_mode": {
    "name": "ipython",
    "version": 3
   },
   "file_extension": ".py",
   "mimetype": "text/x-python",
   "name": "python",
   "nbconvert_exporter": "python",
   "pygments_lexer": "ipython3",
   "version": "3.10.9"
  }
 },
 "nbformat": 4,
 "nbformat_minor": 2
}
