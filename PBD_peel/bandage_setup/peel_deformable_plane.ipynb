{
 "cells": [
  {
   "cell_type": "code",
   "execution_count": 15,
   "metadata": {},
   "outputs": [],
   "source": [
    "from xpbd_softbody import XPBDSoftbody\n",
    "import pyvista as pv\n",
    "import config as cfg\n",
    "import matplotlib.pyplot as plt\n",
    "import torch\n",
    "from xpbd_softbody_layer import XPBDStep\n",
    "import numpy as np\n",
    "from sklearn.neighbors import KDTree\n",
    "from xpbd_softbody_layer import get_energy_boundary\n",
    "from scipy.interpolate import interp1d\n",
    "from cubic_bezier import *\n",
    "from tqdm import trange\n",
    "from torchviz import make_dot\n",
    "import os"
   ]
  },
  {
   "cell_type": "code",
   "execution_count": 16,
   "metadata": {},
   "outputs": [],
   "source": [
    "# para setup\n",
    "N_skin = 400\n",
    "N_bandage = 400"
   ]
  },
  {
   "cell_type": "code",
   "execution_count": 17,
   "metadata": {},
   "outputs": [
    {
     "name": "stdout",
     "output_type": "stream",
     "text": [
      "detect 2 object\n"
     ]
    }
   ],
   "source": [
    "softbody = XPBDSoftbody()\n",
    "skin_mesh = softbody.add_thinshell(pv.Plane(center=(0, 0, 0)), n_surf=N_skin)\n",
    "bandage_mesh = softbody.add_thinshell(pv.Plane(center=(0, 0, 0)), n_surf=N_bandage)\n",
    "softbody.init_states()\n",
    "softbody.init_dist_constraints()\n",
    "softbody.add_multi_boundary_constrain(1, 0, 0.05, -1)"
   ]
  },
  {
   "cell_type": "code",
   "execution_count": 18,
   "metadata": {},
   "outputs": [
    {
     "data": {
      "text/plain": [
       "torch.Size([722, 2])"
      ]
     },
     "execution_count": 18,
     "metadata": {},
     "output_type": "execute_result"
    }
   ],
   "source": [
    "softbody.C_boundary_list[0].shape"
   ]
  }
 ],
 "metadata": {
  "kernelspec": {
   "display_name": "py_pbd",
   "language": "python",
   "name": "python3"
  },
  "language_info": {
   "codemirror_mode": {
    "name": "ipython",
    "version": 3
   },
   "file_extension": ".py",
   "mimetype": "text/x-python",
   "name": "python",
   "nbconvert_exporter": "python",
   "pygments_lexer": "ipython3",
   "version": "3.10.9"
  }
 },
 "nbformat": 4,
 "nbformat_minor": 2
}
