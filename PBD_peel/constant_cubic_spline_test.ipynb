{
 "cells": [
  {
   "cell_type": "code",
   "execution_count": 76,
   "metadata": {},
   "outputs": [],
   "source": [
    "import torch\n",
    "\n",
    "def h_poly_helper(tt):\n",
    "  A = torch.tensor([\n",
    "      [1, 0, -3, 2],\n",
    "      [0, 1, -2, 1],\n",
    "      [0, 0, 3, -2],\n",
    "      [0, 0, -1, 1]\n",
    "      ], dtype=tt[-1].dtype)\n",
    "  return [\n",
    "    sum( A[i, j]*tt[j] for j in range(4) )\n",
    "    for i in range(4) ]\n",
    "\n",
    "def h_poly(t):\n",
    "  tt = [ None for _ in range(4) ]\n",
    "  tt[0] = 1\n",
    "  for i in range(1, 4):\n",
    "    tt[i] = tt[i-1]*t\n",
    "  return h_poly_helper(tt)\n",
    "\n",
    "def interp_func(x, y):\n",
    "  \"Returns integral of interpolating function\"\n",
    "  if len(y)>1:\n",
    "    m = (y[1:] - y[:-1])/(x[1:] - x[:-1])\n",
    "    m = torch.cat([m[[0]], (m[1:] + m[:-1])/2, m[[-1]]])\n",
    "  def f(xs):\n",
    "    if len(y)==1: # in the case of 1 point, treat as constant function\n",
    "      return y[0] + torch.zeros_like(xs)\n",
    "    I = torch.searchsorted(x[1:], xs)\n",
    "    dx = (x[I+1]-x[I])\n",
    "    hh = h_poly((xs-x[I])/dx)\n",
    "    print(x)\n",
    "    print(xs)\n",
    "    print(I)\n",
    "    print(dx)\n",
    "    print(m)\n",
    "    print(hh)\n",
    "    print(hh[0]*y[I])\n",
    "    return hh[0]*y[I] + hh[1]*m[I]*dx + hh[2]*y[I+1] + hh[3]*m[I+1]*dx\n",
    "  return f\n",
    "\n",
    "def interp(x, y, xs):\n",
    "  return interp_func(x,y)(xs)"
   ]
  },
  {
   "cell_type": "code",
   "execution_count": 77,
   "metadata": {},
   "outputs": [
    {
     "name": "stdout",
     "output_type": "stream",
     "text": [
      "tensor([0.0000, 0.5000, 1.0000])\n",
      "tensor([0.0000, 0.0204, 0.0408, 0.0612, 0.0816, 0.1020, 0.1224, 0.1429, 0.1633,\n",
      "        0.1837, 0.2041, 0.2245, 0.2449, 0.2653, 0.2857, 0.3061, 0.3265, 0.3469,\n",
      "        0.3673, 0.3878, 0.4082, 0.4286, 0.4490, 0.4694, 0.4898, 0.5102, 0.5306,\n",
      "        0.5510, 0.5714, 0.5918, 0.6122, 0.6327, 0.6531, 0.6735, 0.6939, 0.7143,\n",
      "        0.7347, 0.7551, 0.7755, 0.7959, 0.8163, 0.8367, 0.8571, 0.8776, 0.8980,\n",
      "        0.9184, 0.9388, 0.9592, 0.9796, 1.0000])\n",
      "tensor([0, 0, 0, 0, 0, 0, 0, 0, 0, 0, 0, 0, 0, 0, 0, 0, 0, 0, 0, 0, 0, 0, 0, 0,\n",
      "        0, 1, 1, 1, 1, 1, 1, 1, 1, 1, 1, 1, 1, 1, 1, 1, 1, 1, 1, 1, 1, 1, 1, 1,\n",
      "        1, 1])\n",
      "tensor([0.5000, 0.5000, 0.5000, 0.5000, 0.5000, 0.5000, 0.5000, 0.5000, 0.5000,\n",
      "        0.5000, 0.5000, 0.5000, 0.5000, 0.5000, 0.5000, 0.5000, 0.5000, 0.5000,\n",
      "        0.5000, 0.5000, 0.5000, 0.5000, 0.5000, 0.5000, 0.5000, 0.5000, 0.5000,\n",
      "        0.5000, 0.5000, 0.5000, 0.5000, 0.5000, 0.5000, 0.5000, 0.5000, 0.5000,\n",
      "        0.5000, 0.5000, 0.5000, 0.5000, 0.5000, 0.5000, 0.5000, 0.5000, 0.5000,\n",
      "        0.5000, 0.5000, 0.5000, 0.5000, 0.5000])\n",
      "tensor([-0.6761,  0.1239,  0.9238])\n",
      "[tensor([1.0000, 0.9951, 0.9811, 0.9587, 0.9287, 0.8921, 0.8495, 0.8017, 0.7498,\n",
      "        0.6943, 0.6362, 0.5763, 0.5153, 0.4541, 0.3936, 0.3345, 0.2776, 0.2238,\n",
      "        0.1738, 0.1286, 0.0888, 0.0554, 0.0291, 0.0108, 0.0012, 0.9988, 0.9892,\n",
      "        0.9709, 0.9446, 0.9112, 0.8714, 0.8262, 0.7762, 0.7224, 0.6655, 0.6064,\n",
      "        0.5459, 0.4847, 0.4237, 0.3638, 0.3057, 0.2502, 0.1983, 0.1505, 0.1079,\n",
      "        0.0713, 0.0413, 0.0189, 0.0049, 0.0000]), tensor([0.0000, 0.0376, 0.0688, 0.0943, 0.1143, 0.1293, 0.1396, 0.1458, 0.1481,\n",
      "        0.1470, 0.1430, 0.1363, 0.1275, 0.1169, 0.1050, 0.0921, 0.0786, 0.0650,\n",
      "        0.0517, 0.0391, 0.0275, 0.0175, 0.0093, 0.0035, 0.0004, 0.0196, 0.0540,\n",
      "        0.0823, 0.1050, 0.1224, 0.1350, 0.1432, 0.1474, 0.1480, 0.1453, 0.1399,\n",
      "        0.1322, 0.1224, 0.1111, 0.0986, 0.0854, 0.0718, 0.0583, 0.0453, 0.0331,\n",
      "        0.0223, 0.0132, 0.0061, 0.0016, 0.0000]), tensor([0.0000, 0.0049, 0.0189, 0.0413, 0.0713, 0.1079, 0.1505, 0.1983, 0.2502,\n",
      "        0.3057, 0.3638, 0.4237, 0.4847, 0.5459, 0.6064, 0.6655, 0.7224, 0.7762,\n",
      "        0.8262, 0.8714, 0.9112, 0.9446, 0.9709, 0.9892, 0.9988, 0.0012, 0.0108,\n",
      "        0.0291, 0.0554, 0.0888, 0.1286, 0.1738, 0.2238, 0.2776, 0.3345, 0.3936,\n",
      "        0.4541, 0.5153, 0.5763, 0.6362, 0.6943, 0.7498, 0.8017, 0.8495, 0.8921,\n",
      "        0.9287, 0.9587, 0.9811, 0.9951, 1.0000]), tensor([ 0.0000, -0.0016, -0.0061, -0.0132, -0.0223, -0.0331, -0.0453, -0.0583,\n",
      "        -0.0718, -0.0854, -0.0986, -0.1111, -0.1224, -0.1322, -0.1399, -0.1453,\n",
      "        -0.1480, -0.1474, -0.1432, -0.1350, -0.1224, -0.1050, -0.0823, -0.0540,\n",
      "        -0.0196, -0.0004, -0.0035, -0.0093, -0.0175, -0.0275, -0.0391, -0.0517,\n",
      "        -0.0650, -0.0786, -0.0921, -0.1050, -0.1169, -0.1275, -0.1363, -0.1430,\n",
      "        -0.1470, -0.1481, -0.1458, -0.1396, -0.1293, -0.1143, -0.0943, -0.0688,\n",
      "        -0.0376,  0.0000])]\n",
      "tensor([0.8051, 0.8012, 0.7899, 0.7718, 0.7477, 0.7182, 0.6839, 0.6455, 0.6036,\n",
      "        0.5590, 0.5122, 0.4640, 0.4149, 0.3656, 0.3169, 0.2693, 0.2235, 0.1802,\n",
      "        0.1399, 0.1035, 0.0715, 0.0446, 0.0234, 0.0087, 0.0010, 0.4665, 0.4620,\n",
      "        0.4535, 0.4412, 0.4256, 0.4070, 0.3859, 0.3625, 0.3374, 0.3108, 0.2832,\n",
      "        0.2549, 0.2264, 0.1979, 0.1699, 0.1428, 0.1169, 0.0926, 0.0703, 0.0504,\n",
      "        0.0333, 0.0193, 0.0088, 0.0023, 0.0000])\n"
     ]
    },
    {
     "data": {
      "text/plain": [
       "[<matplotlib.lines.Line2D at 0x7f9a58612aa0>]"
      ]
     },
     "execution_count": 77,
     "metadata": {},
     "output_type": "execute_result"
    },
    {
     "data": {
      "image/png": "[encoded data removed]",
      "text/plain": [
       "<Figure size 640x480 with 1 Axes>"
      ]
     },
     "metadata": {},
     "output_type": "display_data"
    }
   ],
   "source": [
    "import matplotlib.pyplot as plt # for plotting\n",
    "x = torch.rand(3)\n",
    "u = torch.linspace(0, 1, 3)\n",
    "us = torch.linspace(0, 1, 50)\n",
    "xs = interp(u, x, us)\n",
    "plt.plot(us, xs, 'o')"
   ]
  },
  {
   "cell_type": "code",
   "execution_count": 78,
   "metadata": {},
   "outputs": [],
   "source": [
    "def cubic_spline_coff(u, x):\n",
    "    a = x[:-1]\n",
    "    du = u[1:] - u[:-1]\n",
    "    dx = x[1:] - x[:-1]\n",
    "    diff = dx / du\n",
    "\n",
    "    m0 = torch.tensor([0])\n",
    "    m1 = torch.tensor([6*(diff[1] - diff[0]) / 2 / (du[0] + du[1])])\n",
    "    m2 = torch.tensor([0])\n",
    "    m = torch.cat([m0, m1, m2])\n",
    "\n",
    "    c = m / 2\n",
    "\n",
    "    b0 = torch.tensor([diff[0] - du[0] * m[0] / 2 - du[0] * (m[1] - m[0]) / 6])\n",
    "    b1 = torch.tensor([diff[1] - du[1] * m[1] / 2 - du[1] * (m[2] - m[1]) / 6])\n",
    "\n",
    "    d0 = torch.tensor([(m[1] - m[0]) / 6 / du[0]])\n",
    "    d1 = torch.tensor([(m[2] - m[1]) / 6 / du[1]])\n",
    "\n",
    "    b = torch.cat([b0, b1])\n",
    "    d = torch.cat([d0, d1])\n",
    "\n",
    "    return a, b, c[:-1], d"
   ]
  },
  {
   "cell_type": "code",
   "execution_count": 79,
   "metadata": {},
   "outputs": [],
   "source": [
    "coff = cubic_spline_coff(u, x)"
   ]
  },
  {
   "cell_type": "code",
   "execution_count": 80,
   "metadata": {},
   "outputs": [
    {
     "data": {
      "text/plain": [
       "(tensor([0.8051, 0.4671]),\n",
       " tensor([-1.0761,  0.1239]),\n",
       " tensor([0.0000, 2.3999]),\n",
       " tensor([ 1.5999, -1.5999]))"
      ]
     },
     "execution_count": 80,
     "metadata": {},
     "output_type": "execute_result"
    }
   ],
   "source": [
    "coff"
   ]
  },
  {
   "cell_type": "code",
   "execution_count": 81,
   "metadata": {},
   "outputs": [],
   "source": [
    "def cubic_interp(coff, u, us):\n",
    "    a, b, c, d = coff\n",
    "    I = torch.searchsorted(u[1:], us)\n",
    "    du = us - u[I]\n",
    "    array = a[I] + b[I]*du + c[I]*torch.square(du) + d[I]*du**3\n",
    "\n",
    "    return array\n",
    "    "
   ]
  },
  {
   "cell_type": "code",
   "execution_count": 82,
   "metadata": {},
   "outputs": [],
   "source": [
    "ys = cubic_interp(coff, u, us)"
   ]
  },
  {
   "cell_type": "code",
   "execution_count": 83,
   "metadata": {},
   "outputs": [
    {
     "data": {
      "text/plain": [
       "[<matplotlib.lines.Line2D at 0x7f9a5873aa40>]"
      ]
     },
     "execution_count": 83,
     "metadata": {},
     "output_type": "execute_result"
    },
    {
     "data": {
      "image/png": "[encoded data removed]",
      "text/plain": [
       "<Figure size 640x480 with 1 Axes>"
      ]
     },
     "metadata": {},
     "output_type": "display_data"
    }
   ],
   "source": [
    "plt.plot(us, ys, 'o')"
   ]
  },
  {
   "cell_type": "code",
   "execution_count": 84,
   "metadata": {},
   "outputs": [],
   "source": [
    "x_con = torch.rand(3).requires_grad_(True)"
   ]
  },
  {
   "cell_type": "code",
   "execution_count": 85,
   "metadata": {},
   "outputs": [],
   "source": [
    "coff = cubic_spline_coff(u, x_con)\n",
    "x_pre0 = cubic_interp(coff, u, us)"
   ]
  },
  {
   "cell_type": "code",
   "execution_count": 86,
   "metadata": {},
   "outputs": [],
   "source": [
    "optimizer = torch.optim.Adam([x_con], lr=0.01)"
   ]
  },
  {
   "cell_type": "code",
   "execution_count": 87,
   "metadata": {},
   "outputs": [],
   "source": [
    "def loss_fn(target, predict):\n",
    "    return torch.norm(target - predict)"
   ]
  },
  {
   "cell_type": "code",
   "execution_count": 88,
   "metadata": {},
   "outputs": [
    {
     "name": "stdout",
     "output_type": "stream",
     "text": [
      "tensor([0.8551, 3.2560, 0.0000])\n",
      "tensor([0.7285, 3.2386, 0.0000])\n",
      "tensor([0.5975, 3.2180, 0.0000])\n",
      "tensor([0.4627, 3.1942, 0.0000])\n",
      "tensor([0.3248, 3.1670, 0.0000])\n",
      "tensor([0.1852, 3.1365, 0.0000])\n",
      "tensor([0.0454, 3.1030, 0.0000])\n",
      "tensor([-0.0926,  3.0670,  0.0000])\n",
      "tensor([-0.2264,  3.0290,  0.0000])\n",
      "tensor([-0.3538,  2.9901,  0.0000])\n",
      "tensor([-0.4731,  2.9509,  0.0000])\n",
      "tensor([-0.5836,  2.9120,  0.0000])\n",
      "tensor([-0.6856,  2.8737,  0.0000])\n",
      "tensor([-0.7800,  2.8361,  0.0000])\n",
      "tensor([-0.8681,  2.7990,  0.0000])\n",
      "tensor([-0.9514,  2.7620,  0.0000])\n",
      "tensor([-1.0311,  2.7247,  0.0000])\n",
      "tensor([-1.1084,  2.6869,  0.0000])\n",
      "tensor([-1.1842,  2.6482,  0.0000])\n",
      "tensor([-1.2594,  2.6081,  0.0000])\n",
      "tensor([-1.3345,  2.5665,  0.0000])\n",
      "tensor([-1.4103,  2.5228,  0.0000])\n",
      "tensor([-1.4873,  2.4768,  0.0000])\n",
      "tensor([-1.5660,  2.4281,  0.0000])\n",
      "tensor([-1.6468,  2.3762,  0.0000])\n",
      "tensor([-1.7302,  2.3207,  0.0000])\n",
      "tensor([-1.8167,  2.2610,  0.0000])\n",
      "tensor([-1.9065,  2.1966,  0.0000])\n",
      "tensor([-2.0001,  2.1270,  0.0000])\n",
      "tensor([-2.0980,  2.0513,  0.0000])\n",
      "tensor([-2.2003,  1.9688,  0.0000])\n",
      "tensor([-2.3074,  1.8786,  0.0000])\n",
      "tensor([-2.4196,  1.7797,  0.0000])\n",
      "tensor([-2.5370,  1.6711,  0.0000])\n",
      "tensor([-2.6597,  1.5514,  0.0000])\n",
      "tensor([-2.7876,  1.4193,  0.0000])\n",
      "tensor([-2.9204,  1.2734,  0.0000])\n",
      "tensor([-3.0573,  1.1120,  0.0000])\n",
      "tensor([-3.1973,  0.9335,  0.0000])\n",
      "tensor([-3.3389,  0.7362,  0.0000])\n",
      "tensor([-3.4799,  0.5184,  0.0000])\n",
      "tensor([-3.6172,  0.2786,  0.0000])\n",
      "tensor([-3.7470,  0.0152,  0.0000])\n",
      "tensor([-3.8642, -0.2732,  0.0000])\n",
      "tensor([-3.9627, -0.5879,  0.0000])\n",
      "tensor([-4.0346, -0.9309,  0.0000])\n",
      "tensor([-4.0695, -1.3053,  0.0000])\n",
      "tensor([-4.0526, -1.7168,  0.0000])\n",
      "tensor([-3.9599, -2.1752,  0.0000])\n",
      "tensor([-3.7470, -2.6956,  0.0000])\n",
      "tensor([-3.3219, -3.2940,  0.0000])\n",
      "tensor([-2.4870, -3.9451,  0.0000])\n",
      "tensor([-0.9150, -4.4009,  0.0000])\n",
      "tensor([ 1.3108, -4.0172,  0.0000])\n",
      "tensor([ 3.0618, -2.8193,  0.0000])\n",
      "tensor([ 3.9135, -1.6717,  0.0000])\n",
      "tensor([ 4.2653, -0.8437,  0.0000])\n",
      "tensor([ 4.3980, -0.2579,  0.0000])\n",
      "tensor([4.4284, 0.1738, 0.0000])\n",
      "tensor([4.4039, 0.5069, 0.0000])\n",
      "tensor([4.3444, 0.7742, 0.0000])\n",
      "tensor([4.2579, 0.9950, 0.0000])\n",
      "tensor([4.1467, 1.1816, 0.0000])\n",
      "tensor([4.0093, 1.3414, 0.0000])\n",
      "tensor([3.8415, 1.4787, 0.0000])\n",
      "tensor([3.6365, 1.5954, 0.0000])\n",
      "tensor([3.3842, 1.6908, 0.0000])\n",
      "tensor([3.0719, 1.7618, 0.0000])\n",
      "tensor([2.6843, 1.8020, 0.0000])\n",
      "tensor([2.2058, 1.8014, 0.0000])\n",
      "tensor([1.6270, 1.7478, 0.0000])\n",
      "tensor([0.9535, 1.6295, 0.0000])\n",
      "tensor([0.2153, 1.4422, 0.0000])\n",
      "tensor([-0.5337,  1.1947,  0.0000])\n",
      "tensor([-1.2326,  0.9088,  0.0000])\n",
      "tensor([-1.8363,  0.6111,  0.0000])\n",
      "tensor([-2.3266,  0.3230,  0.0000])\n",
      "tensor([-2.7071,  0.0566,  0.0000])\n",
      "tensor([-2.9927, -0.1839,  0.0000])\n",
      "tensor([-3.2001, -0.3995,  0.0000])\n",
      "tensor([-3.3436, -0.5932,  0.0000])\n",
      "tensor([-3.4333, -0.7686,  0.0000])\n",
      "tensor([-3.4747, -0.9292,  0.0000])\n",
      "tensor([-3.4683, -1.0776,  0.0000])\n",
      "tensor([-3.4082, -1.2155,  0.0000])\n",
      "tensor([-3.2802, -1.3422,  0.0000])\n",
      "tensor([-3.0560, -1.4530,  0.0000])\n",
      "tensor([-2.6861, -1.5340,  0.0000])\n",
      "tensor([-2.0940, -1.5531,  0.0000])\n",
      "tensor([-1.2023, -1.4521,  0.0000])\n",
      "tensor([-0.0451, -1.1745,  0.0000])\n",
      "tensor([ 1.1224, -0.7511,  0.0000])\n",
      "tensor([ 2.0186, -0.3066,  0.0000])\n",
      "tensor([2.5839, 0.0674, 0.0000])\n",
      "tensor([2.8993, 0.3543, 0.0000])\n",
      "tensor([3.0504, 0.5695, 0.0000])\n",
      "tensor([3.0914, 0.7309, 0.0000])\n",
      "tensor([3.0508, 0.8514, 0.0000])\n",
      "tensor([2.9405, 0.9382, 0.0000])\n",
      "tensor([2.7627, 0.9944, 0.0000])\n",
      "tensor([2.5135, 1.0200, 0.0000])\n",
      "tensor([2.1862, 1.0119, 0.0000])\n",
      "tensor([1.7756, 0.9661, 0.0000])\n",
      "tensor([1.2841, 0.8787, 0.0000])\n",
      "tensor([0.7283, 0.7495, 0.0000])\n",
      "tensor([0.1415, 0.5845, 0.0000])\n",
      "tensor([-0.4320,  0.3964,  0.0000])\n",
      "tensor([-0.9504,  0.2009,  0.0000])\n",
      "tensor([-1.3860,  0.0124,  0.0000])\n",
      "tensor([-1.7277, -0.1595,  0.0000])\n",
      "tensor([-1.9767, -0.3103,  0.0000])\n",
      "tensor([-2.1390, -0.4384,  0.0000])\n",
      "tensor([-2.2208, -0.5437,  0.0000])\n",
      "tensor([-2.2252, -0.6261,  0.0000])\n",
      "tensor([-2.1511, -0.6844,  0.0000])\n",
      "tensor([-1.9931, -0.7159,  0.0000])\n",
      "tensor([-1.7431, -0.7163,  0.0000])\n",
      "tensor([-1.3947, -0.6797,  0.0000])\n",
      "tensor([-0.9511, -0.6017,  0.0000])\n",
      "tensor([-0.4353, -0.4825,  0.0000])\n",
      "tensor([ 0.1061, -0.3309,  0.0000])\n",
      "tensor([ 0.6151, -0.1638,  0.0000])\n",
      "tensor([1.0434e+00, 2.8467e-04, 0.0000e+00])\n",
      "tensor([1.3659, 0.1471, 0.0000])\n",
      "tensor([1.5789, 0.2692, 0.0000])\n",
      "tensor([1.6904, 0.3641, 0.0000])\n",
      "tensor([1.7112, 0.4318, 0.0000])\n",
      "tensor([1.6511, 0.4733, 0.0000])\n",
      "tensor([1.5185, 0.4892, 0.0000])\n",
      "tensor([1.3208, 0.4804, 0.0000])\n",
      "tensor([1.0671, 0.4478, 0.0000])\n",
      "tensor([0.7697, 0.3934, 0.0000])\n",
      "tensor([0.4449, 0.3206, 0.0000])\n",
      "tensor([0.1122, 0.2343, 0.0000])\n"
     ]
    }
   ],
   "source": [
    "loss_array = []\n",
    "pre_loss = 100\n",
    "for i in range(1000):\n",
    "    coff = cubic_spline_coff(u, x_con)\n",
    "    x_pre = cubic_interp(coff, u, us)\n",
    "\n",
    "    loss = loss_fn(x_pre, ys)\n",
    "    loss.backward()\n",
    "    print(x_con.grad)\n",
    "    optimizer.step()\n",
    "    optimizer.zero_grad()\n",
    "    if abs(loss.detach() - pre_loss) < 0.0001:\n",
    "        loss_array.append(loss.detach())\n",
    "        break\n",
    "    pre_loss = loss.detach()\n",
    "    loss_array.append(pre_loss)"
   ]
  },
  {
   "cell_type": "code",
   "execution_count": 89,
   "metadata": {},
   "outputs": [
    {
     "data": {
      "text/plain": [
       "<matplotlib.legend.Legend at 0x7f9a585266b0>"
      ]
     },
     "execution_count": 89,
     "metadata": {},
     "output_type": "execute_result"
    },
    {
     "data": {
      "image/png": "[encoded data removed]",
      "text/plain": [
       "<Figure size 640x480 with 1 Axes>"
      ]
     },
     "metadata": {},
     "output_type": "display_data"
    }
   ],
   "source": [
    "plt.plot(us, x_pre.detach(), 'o', label='predict')\n",
    "plt.plot(us, x_pre0.detach(), 'o', label='start')\n",
    "plt.plot(us, ys.detach(), 'o', label = 'ground truth')\n",
    "plt.legend()"
   ]
  },
  {
   "cell_type": "code",
   "execution_count": 90,
   "metadata": {},
   "outputs": [
    {
     "data": {
      "text/plain": [
       "[<matplotlib.lines.Line2D at 0x7f9a586d3430>]"
      ]
     },
     "execution_count": 90,
     "metadata": {},
     "output_type": "execute_result"
    },
    {
     "data": {
      "image/png": "[encoded data removed]",
      "text/plain": [
       "<Figure size 640x480 with 1 Axes>"
      ]
     },
     "metadata": {},
     "output_type": "display_data"
    }
   ],
   "source": [
    "plt.plot(loss_array)"
   ]
  }
 ],
 "metadata": {
  "kernelspec": {
   "display_name": "py_pbd",
   "language": "python",
   "name": "python3"
  },
  "language_info": {
   "codemirror_mode": {
    "name": "ipython",
    "version": 3
   },
   "file_extension": ".py",
   "mimetype": "text/x-python",
   "name": "python",
   "nbconvert_exporter": "python",
   "pygments_lexer": "ipython3",
   "version": "3.10.9"
  }
 },
 "nbformat": 4,
 "nbformat_minor": 2
}
