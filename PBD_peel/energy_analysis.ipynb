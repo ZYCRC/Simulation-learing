{
 "cells": [
  {
   "cell_type": "code",
   "execution_count": 181,
   "metadata": {},
   "outputs": [],
   "source": [
    "import os\n",
    "import torch\n",
    "import data\n",
    "import utils\n",
    "from scipy.interpolate import interp1d\n",
    "from scipy.interpolate import CubicSpline\n",
    "import config as cfg\n",
    "import numpy as np\n",
    "import matplotlib.pyplot as plt\n",
    "from copy import deepcopy\n",
    "from xpbd_softbody_layer import XPBDStep\n",
    "import pyvista as pv\n",
    "import matplotlib.pyplot as plt\n",
    "from xpbd_softbody import XPBDSoftbody"
   ]
  },
  {
   "cell_type": "code",
   "execution_count": 182,
   "metadata": {},
   "outputs": [
    {
     "data": {
      "text/plain": [
       "tensor(1.)"
      ]
     },
     "execution_count": 182,
     "metadata": {},
     "output_type": "execute_result"
    }
   ],
   "source": [
    "torch.sigmoid(torch.tensor(1e11))"
   ]
  },
  {
   "cell_type": "code",
   "execution_count": 183,
   "metadata": {},
   "outputs": [],
   "source": [
    "def cubic_bezier(p, ts):\n",
    "    return (1-ts)**3*p[0] + 3*(1-ts)**2*ts*p[1]+3*(1-ts)*ts**2*p[2]+ts**3*p[3]"
   ]
  },
  {
   "cell_type": "code",
   "execution_count": 184,
   "metadata": {},
   "outputs": [],
   "source": [
    "def cubic_bezier_arc_3D(px, py, pz, unit_arc=0.1):\n",
    "    t = 0\n",
    "    ts = torch.tensor([0]).to(cfg.device)\n",
    "    while t <= 1:\n",
    "        dx = 3*(1 - t)**2 * (px[1] - px[0]) + 6 * (1-t) * t * (px[2] - px[1]) + 3*t**2*(px[3] - px[2])\n",
    "        dy = 3*(1 - t)**2 * (py[1] - py[0]) + 6 * (1-t) * t * (py[2] - py[1]) + 3*t**2*(py[3] - py[2])\n",
    "        dz = 3*(1 - t)**2 * (pz[1] - pz[0]) + 6 * (1-t) * t * (pz[2] - pz[1]) + 3*t**2*(pz[3] - pz[2])\n",
    "\n",
    "        dt = unit_arc / torch.sqrt(dx**2 + dy**2 + dz**2)\n",
    "\n",
    "        t = t + dt\n",
    "\n",
    "        ts = torch.hstack((ts, t))\n",
    "    ts = ts[:-1]\n",
    "    xs = cubic_bezier(px, ts)\n",
    "    ys = cubic_bezier(py, ts)\n",
    "    zs = cubic_bezier(pz, ts)\n",
    "\n",
    "    return torch.vstack((xs, ys, zs))"
   ]
  },
  {
   "cell_type": "code",
   "execution_count": 185,
   "metadata": {},
   "outputs": [],
   "source": [
    "def get_energy_boundary(softbody: XPBDSoftbody,\n",
    "                         V_predict: torch.Tensor,\n",
    "                         V_boundary_stiffness: torch.Tensor,\n",
    "                         mask: set = None) -> torch.Tensor:\n",
    "    \n",
    "    V_boundary_stiffness_threshold = V_boundary_stiffness.clone()\n",
    "    # V_boundary_stiffness_threshold[V_boundary_stiffness_threshold < 1e-3] = 0\n",
    "    V_boundary_stiffness_threshold = V_boundary_stiffness_threshold * torch.sigmoid(1e5*(V_boundary_stiffness_threshold - 1e-2))\n",
    "\n",
    "\n",
    "    dist_C, dist_C_stiffness = __get_spring_boundary_constraints(softbody,\n",
    "                                                      V_predict,\n",
    "                                                      V_boundary_stiffness_threshold,\n",
    "                                                      mask)\n",
    "    # energy is C^2 * stiffness / 2\n",
    "    boundary_energy = torch.square(dist_C) * dist_C_stiffness / 2\n",
    "    return boundary_energy\n",
    "\n",
    "def __get_spring_boundary_constraints(softbody, V_predict, V_boundary_stiffness, mask=None):\n",
    "    C = []\n",
    "    C_stiffness = []\n",
    "    # collect all distance constraints\n",
    "    for C_dist, C_init_d in zip(softbody.C_boundary_list, softbody.C_init_boundary_d_list):\n",
    "        if mask == None or (C_dist[:, 0] in mask and C_dist[:, 1] in mask):\n",
    "            # position difference vectors\n",
    "            N = V_predict[C_dist[:, 0]] - V_predict[C_dist[:, 1]]\n",
    "            # distance\n",
    "            D = torch.norm(N, p=2, dim=1, keepdim=True)\n",
    "            # constarint values\n",
    "            C.append(D - C_init_d)\n",
    "            # average stiffness\n",
    "            C_stiffness.append(V_boundary_stiffness[C_dist[:, 0]])\n",
    "    return torch.cat(C), torch.cat(C_stiffness)"
   ]
  },
  {
   "cell_type": "code",
   "execution_count": 186,
   "metadata": {},
   "outputs": [],
   "source": [
    "control_point = 31"
   ]
  },
  {
   "cell_type": "code",
   "execution_count": 187,
   "metadata": {},
   "outputs": [
    {
     "name": "stdout",
     "output_type": "stream",
     "text": [
      "torch.Size([600, 3])\n",
      "torch.Size([1200, 3])\n"
     ]
    }
   ],
   "source": [
    "mesh, softbody = data.get_xpbd_grape()\n",
    "softbody.fix_point(0, control_point)\n",
    "mesh_origin = mesh.copy()"
   ]
  },
  {
   "cell_type": "code",
   "execution_count": 188,
   "metadata": {},
   "outputs": [],
   "source": [
    "spline_control = np.array([[0.000224, 0.010794, -0.001233],\n",
    "                           [-0.0017,  0.0025,  0.0006],\n",
    "                           [-0.0015, -0.0016,  0.0038],\n",
    "                           [-0.0002, -0.0047,  0.0078]])\n",
    "spline_control = torch.from_numpy(spline_control).to(cfg.device)"
   ]
  },
  {
   "cell_type": "code",
   "execution_count": 189,
   "metadata": {},
   "outputs": [],
   "source": [
    "spline_line = cubic_bezier_arc_3D(spline_control[:, 0], spline_control[:, 1], spline_control[:, 2], 0.00025)"
   ]
  },
  {
   "cell_type": "code",
   "execution_count": 190,
   "metadata": {},
   "outputs": [
    {
     "data": {
      "text/plain": [
       "torch.Size([3, 75])"
      ]
     },
     "execution_count": 190,
     "metadata": {},
     "output_type": "execute_result"
    }
   ],
   "source": [
    "spline_line.shape"
   ]
  },
  {
   "cell_type": "code",
   "execution_count": 191,
   "metadata": {},
   "outputs": [
    {
     "data": {
      "text/plain": [
       "Actor (0x7fb5d41423e0)\n",
       "  Center:                     (-9.851530194282532e-06, 0.0014494163915514946, -0.0009795548299327494)\n",
       "  Pickable:                   True\n",
       "  Position:                   (0.0, 0.0, 0.0)\n",
       "  Scale:                      (1.0, 1.0, 1.0)\n",
       "  Visible:                    True\n",
       "  X Bounds                    -6.636E-03, 6.616E-03\n",
       "  Y Bounds                    -1.040E-02, 1.330E-02\n",
       "  Z Bounds                    -3.189E-03, 1.230E-03\n",
       "  User matrix:                Set\n",
       "  Has mapper:                 True\n",
       "\n",
       "Property (0x7fb5bd24c8e0)\n",
       "  Ambient:                     0.0\n",
       "  Ambient color:               Color(hex='#c0ab5eff', opacity=255)\n",
       "  Anisotropy:                  0.0\n",
       "  Color:                       Color(hex='#c0ab5eff', opacity=255)\n",
       "  Culling:                     \"none\"\n",
       "  Diffuse:                     1.0\n",
       "  Diffuse color:               Color(hex='#c0ab5eff', opacity=255)\n",
       "  Edge color:                  Color(name='black', hex='#000000ff', opacity=255)\n",
       "  Edge opacity:                1.0\n",
       "  Interpolation:               0\n",
       "  Lighting:                    False\n",
       "  Line width:                  1.0\n",
       "  Metallic:                    0.0\n",
       "  Opacity:                     1.0\n",
       "  Point size:                  5.0\n",
       "  Render lines as tubes:       False\n",
       "  Render points as spheres:    False\n",
       "  Roughness:                   0.5\n",
       "  Show edges:                  False\n",
       "  Specular:                    0.0\n",
       "  Specular color:              Color(hex='#c0ab5eff', opacity=255)\n",
       "  Specular power:              100.0\n",
       "  Style:                       \"Surface\"\n",
       "\n",
       "DataSetMapper (0x7fb5bd127820)\n",
       "  Scalar visibility:           False\n",
       "  Scalar range:                (0.0, 1.0)\n",
       "  Interpolate before mapping:  True\n",
       "  Scalar map mode:             default\n",
       "  Color mode:                  direct\n",
       "\n",
       "Attached dataset:\n",
       "PolyData (0x7fb5bd125960)\n",
       "  N Cells:    588\n",
       "  N Points:   380\n",
       "  N Strips:   0\n",
       "  X Bounds:   -6.636e-03, 6.616e-03\n",
       "  Y Bounds:   -1.040e-02, 1.330e-02\n",
       "  Z Bounds:   -3.189e-03, 1.230e-03\n",
       "  N Arrays:   0"
      ]
     },
     "execution_count": 191,
     "metadata": {},
     "output_type": "execute_result"
    }
   ],
   "source": [
    "pv.set_plot_theme('document')\n",
    "pl = pv.Plotter()\n",
    "# skin being peeled\n",
    "actor1 =  pl.add_mesh(mesh, color='#9f5547ff', show_edges=True, edge_color='#b37164ff',  lighting=False,style='surface')\n",
    "\n",
    "# control line\n",
    "# pl.add_lines(spline_line, color='r', connected=True)\n",
    "# ellipsoid grape\n",
    "grape = pv.read('assets/grape.ply')\n",
    "grape.points = grape.points - np.array([0, 0, 1e-4])\n",
    "pl.add_mesh(grape, color='#9f5547ff', show_edges=False, lighting=False,style='surface')\n",
    "\n",
    "# grape meat that is green\n",
    "grape_meat= pv.read('assets/grape_skin.ply')\n",
    "grape_meat.points = grape_meat.points - np.array([0, 0, 2e-4])\n",
    "pl.add_mesh(grape_meat, color='#c0ab5eff', show_edges=False, lighting=False,style='surface')"
   ]
  },
  {
   "cell_type": "code",
   "execution_count": 192,
   "metadata": {},
   "outputs": [],
   "source": [
    "cloth_dist_stiffness = 1\n",
    "V_boundary_stiffness = 0.1\n",
    "V_dist_stiffness = torch.ones_like(softbody.V_mass).to(cfg.device)\n",
    "V_boundary_stiffness = torch.ones_like(softbody.V_mass).to(cfg.device) * V_boundary_stiffness\n",
    "energy_list = []\n",
    "tense_boundary_list = []\n",
    "pl.open_gif('boundary_based_optimize_tilted1.gif')\n",
    "boundary_energy_matrix = torch.zeros(75, 600).to(cfg.device)\n",
    "spline_line = torch.transpose(spline_line, 0, 1)\n",
    "for i in range(spline_line.shape[0]):\n",
    "    softbody.V[control_point] = spline_line[i]\n",
    "    step_ref = XPBDStep(softbody,\n",
    "                    V_dist_stiffness=V_dist_stiffness, \n",
    "                    V_shape_stiffness=None,\n",
    "                    V_boundary_stiffness=V_boundary_stiffness, \n",
    "                    dt=cfg.dt,\n",
    "                    substep=cfg.substep,\n",
    "                    iteration=cfg.iteration,\n",
    "                    quasi_static=cfg.quasi_static,\n",
    "                    plane_height=cfg.ground_plane_height, \n",
    "                    use_shape_matching=cfg.use_shape_matching,\n",
    "                    use_spring_boundary=cfg.use_spring_boundary) #cfg.use_spring_boundary\n",
    "    V_ref, V_velocity_ref = step_ref.forward(softbody.V, softbody.V_velocity)\n",
    "    softbody.V = V_ref.clone()\n",
    "    softbody.V_velocity = V_velocity_ref.clone()\n",
    "    ref_V_boundary_stiffness = V_boundary_stiffness[:cfg.n_surf].detach().clone()\n",
    "    energy = get_energy_boundary(softbody, softbody.V, ref_V_boundary_stiffness)\n",
    "    boundary_energy_matrix[i] = energy.squeeze()\n",
    "    tense_idx = energy.squeeze() > 1e-9\n",
    "    tense_boundary_list.append(torch.sum(tense_idx).detach().cpu().numpy())\n",
    "    \n",
    "    # set boundary energy that larger than 1e-8 as broken, 1e-5 is a eps to avoid divide 0\n",
    "    V_boundary_stiffness[:cfg.n_surf] = ref_V_boundary_stiffness * torch.sigmoid(1e10 * (1e-8 - energy)) + 1e-5*torch.sigmoid(1e10 * (energy - 1e-8))\n",
    "    # V_boundary_stiffness[:cfg.n_surf][energy.squeeze() > 1e-8] = 1e-5\n",
    "    mesh.points = softbody.V.detach().cpu().numpy()[:cfg.n_surf]\n",
    "    energy_list.append(energy.detach().cpu().numpy().reshape(cfg.n_surf))\n",
    "    pl.remove_actor(actor1)\n",
    "    pl.add_mesh(mesh, scalars=tense_idx.cpu(), show_edges=True, edge_color='#b37164ff',  lighting=False,style='surface', cmap='jet')\n",
    "    # pl.update()\n",
    "    # pl.show()\n",
    "    pl.write_frame()\n",
    "pl.close()"
   ]
  },
  {
   "cell_type": "code",
   "execution_count": 193,
   "metadata": {},
   "outputs": [],
   "source": [
    "energy_list = np.array(energy_list)\n",
    "energy_per_iter = np.sum(energy_list, axis=1)\n",
    "tense_boundary_list = np.array(tense_boundary_list)"
   ]
  },
  {
   "cell_type": "code",
   "execution_count": 194,
   "metadata": {},
   "outputs": [
    {
     "data": {
      "text/plain": [
       "[<matplotlib.lines.Line2D at 0x7fb5bd027a30>]"
      ]
     },
     "execution_count": 194,
     "metadata": {},
     "output_type": "execute_result"
    },
    {
     "data": {
      "image/png": "[encoded data removed]",
      "text/plain": [
       "<Figure size 640x480 with 1 Axes>"
      ]
     },
     "metadata": {},
     "output_type": "display_data"
    }
   ],
   "source": [
    "plt.plot(energy_per_iter)"
   ]
  },
  {
   "cell_type": "code",
   "execution_count": 195,
   "metadata": {},
   "outputs": [
    {
     "data": {
      "text/plain": [
       "[<matplotlib.lines.Line2D at 0x7fb5bfe045e0>]"
      ]
     },
     "execution_count": 195,
     "metadata": {},
     "output_type": "execute_result"
    },
    {
     "data": {
      "image/png": "[encoded data removed]",
      "text/plain": [
       "<Figure size 640x480 with 1 Axes>"
      ]
     },
     "metadata": {},
     "output_type": "display_data"
    }
   ],
   "source": [
    "plt.plot(tense_boundary_list)"
   ]
  },
  {
   "cell_type": "code",
   "execution_count": 196,
   "metadata": {},
   "outputs": [
    {
     "data": {
      "text/plain": [
       "8.159605e-06"
      ]
     },
     "execution_count": 196,
     "metadata": {},
     "output_type": "execute_result"
    }
   ],
   "source": [
    "np.sum(energy_per_iter)"
   ]
  }
 ],
 "metadata": {
  "kernelspec": {
   "display_name": "py_pbd",
   "language": "python",
   "name": "python3"
  },
  "language_info": {
   "codemirror_mode": {
    "name": "ipython",
    "version": 3
   },
   "file_extension": ".py",
   "mimetype": "text/x-python",
   "name": "python",
   "nbconvert_exporter": "python",
   "pygments_lexer": "ipython3",
   "version": "3.10.9"
  }
 },
 "nbformat": 4,
 "nbformat_minor": 2
}
