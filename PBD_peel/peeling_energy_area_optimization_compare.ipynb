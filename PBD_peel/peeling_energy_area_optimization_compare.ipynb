{
 "cells": [
  {
   "cell_type": "code",
   "execution_count": null,
   "metadata": {},
   "outputs": [],
   "source": [
    "import os\n",
    "import torch\n",
    "import data\n",
    "import utils\n",
    "from scipy.interpolate import interp1d\n",
    "from scipy.interpolate import CubicSpline\n",
    "import config as cfg\n",
    "import numpy as np\n",
    "import matplotlib.pyplot as plt\n",
    "from copy import deepcopy\n",
    "from xpbd_softbody_layer import XPBDStep\n",
    "import pyvista as pv\n",
    "import matplotlib.pyplot as plt\n",
    "from xpbd_softbody import XPBDSoftbody\n",
    "from cubic_spline import *"
   ]
  },
  {
   "cell_type": "code",
   "execution_count": null,
   "metadata": {},
   "outputs": [],
   "source": [
    "mesh, softbody = data.get_xpbd_grape()"
   ]
  },
  {
   "cell_type": "code",
   "execution_count": null,
   "metadata": {},
   "outputs": [],
   "source": [
    "control_point = 31"
   ]
  },
  {
   "cell_type": "code",
   "execution_count": null,
   "metadata": {},
   "outputs": [],
   "source": [
    "norm_vec = np.array([0, 1, 0])\n",
    "d = 0.005 *np.sqrt(2)/2\n",
    "seg_plane = pv.Plane(center=(d,d,0), direction=norm_vec, i_size=0.02, j_size=0.01, i_resolution=10, j_resolution=10)"
   ]
  },
  {
   "cell_type": "code",
   "execution_count": null,
   "metadata": {},
   "outputs": [],
   "source": [
    "boundary_mask = mesh.points[:cfg.n_surf].copy()"
   ]
  },
  {
   "cell_type": "code",
   "execution_count": null,
   "metadata": {},
   "outputs": [],
   "source": [
    "boundary_mask = ((norm_vec @ boundary_mask.T) - 0.005 *np.sqrt(2)/2) < 0"
   ]
  },
  {
   "cell_type": "code",
   "execution_count": null,
   "metadata": {},
   "outputs": [],
   "source": [
    "cfg.n_surf - np.sum(boundary_mask)"
   ]
  },
  {
   "cell_type": "code",
   "execution_count": null,
   "metadata": {},
   "outputs": [],
   "source": [
    "ax = plt.figure().add_subplot(projection='3d')\n",
    "ax.scatter(mesh.points[:600, 0], mesh.points[:600, 1], mesh.points[:600, 2], c=boundary_mask, marker='o')\n",
    "ax.scatter(seg_plane.points[:, 0], seg_plane.points[:, 1], seg_plane.points[:, 2], c='r')\n",
    "utils.axisEqual3D(ax)\n",
    "ax.view_init(elev=90, azim=0)\n",
    "plt.show()"
   ]
  },
  {
   "cell_type": "code",
   "execution_count": null,
   "metadata": {},
   "outputs": [],
   "source": [
    "def get_energy_boundary(softbody: XPBDSoftbody,\n",
    "                         V_predict: torch.Tensor,\n",
    "                         V_boundary_stiffness: torch.Tensor,\n",
    "                         mask: set = None) -> torch.Tensor:\n",
    "    \n",
    "    V_boundary_stiffness_threshold = V_boundary_stiffness.clone()\n",
    "    # V_boundary_stiffness_threshold[V_boundary_stiffness_threshold < 1e-3] = 0\n",
    "    V_boundary_stiffness_threshold = V_boundary_stiffness_threshold * torch.sigmoid(V_boundary_stiffness_threshold - 1e-3)\n",
    "\n",
    "\n",
    "    dist_C, dist_C_stiffness = __get_spring_boundary_constraints(softbody,\n",
    "                                                      V_predict,\n",
    "                                                      V_boundary_stiffness_threshold,\n",
    "                                                      mask)\n",
    "    # energy is C^2 * stiffness / 2\n",
    "    boundary_energy = torch.square(dist_C) * dist_C_stiffness / 2\n",
    "    return boundary_energy\n",
    "\n",
    "def __get_spring_boundary_constraints(softbody, V_predict, V_boundary_stiffness, mask=None):\n",
    "    C = []\n",
    "    C_stiffness = []\n",
    "    # collect all distance constraints\n",
    "    for C_dist, C_init_d in zip(softbody.C_boundary_list, softbody.C_init_boundary_d_list):\n",
    "        if mask == None or (C_dist[:, 0] in mask and C_dist[:, 1] in mask):\n",
    "            # position difference vectors\n",
    "            N = V_predict[C_dist[:, 0]] - V_predict[C_dist[:, 1]]\n",
    "            # distance\n",
    "            D = torch.norm(N, p=2, dim=1, keepdim=True)\n",
    "            # constarint values\n",
    "            C.append(D - C_init_d)\n",
    "            # average stiffness\n",
    "            C_stiffness.append(V_boundary_stiffness[C_dist[:, 0]])\n",
    "    return torch.cat(C), torch.cat(C_stiffness)"
   ]
  },
  {
   "cell_type": "code",
   "execution_count": null,
   "metadata": {},
   "outputs": [],
   "source": [
    "def cubic_bezier(p, ts):\n",
    "    return (1-ts)**3*p[0] + 3*(1-ts)**2*ts*p[1]+3*(1-ts)*ts**2*p[2]+ts**3*p[3]"
   ]
  },
  {
   "cell_type": "code",
   "execution_count": null,
   "metadata": {},
   "outputs": [],
   "source": [
    "def cubic_bezier_arc_3D(px, py, pz, unit_arc=0.1):\n",
    "    t = 0\n",
    "    ts = torch.tensor([0]).to(cfg.device)\n",
    "    while t <= 1:\n",
    "        dx = 3*(1 - t)**2 * (px[1] - px[0]) + 6 * (1-t) * t * (px[2] - px[1]) + 3*t**2*(px[3] - px[2])\n",
    "        dy = 3*(1 - t)**2 * (py[1] - py[0]) + 6 * (1-t) * t * (py[2] - py[1]) + 3*t**2*(py[3] - py[2])\n",
    "        dz = 3*(1 - t)**2 * (pz[1] - pz[0]) + 6 * (1-t) * t * (pz[2] - pz[1]) + 3*t**2*(pz[3] - pz[2])\n",
    "\n",
    "        dt = unit_arc / torch.sqrt(dx**2 + dy**2 + dz**2)\n",
    "\n",
    "        t = t + dt\n",
    "\n",
    "        ts = torch.hstack((ts, t))\n",
    "    ts = ts[:-1]\n",
    "    xs = cubic_bezier(px, ts)\n",
    "    ys = cubic_bezier(py, ts)\n",
    "    zs = cubic_bezier(pz, ts)\n",
    "\n",
    "    return torch.vstack((xs, ys, zs))"
   ]
  },
  {
   "cell_type": "code",
   "execution_count": null,
   "metadata": {},
   "outputs": [],
   "source": [
    "target_boundary_stiffness = boundary_mask * 0.1\n",
    "target_boundary_stiffness = torch.from_numpy(target_boundary_stiffness).to(cfg.device)"
   ]
  },
  {
   "cell_type": "code",
   "execution_count": null,
   "metadata": {},
   "outputs": [],
   "source": [
    "target_list = target_boundary_stiffness < 1e-2"
   ]
  },
  {
   "cell_type": "code",
   "execution_count": null,
   "metadata": {},
   "outputs": [],
   "source": [
    "unpeel = torch.where(target_boundary_stiffness == 0.1)\n",
    "peel = torch.where(target_boundary_stiffness == 0.)\n",
    "weight = target_boundary_stiffness.clone()\n",
    "weight[unpeel] = 5\n",
    "weight[peel] = 1\n",
    "weight = torch.diag(weight)"
   ]
  },
  {
   "cell_type": "code",
   "execution_count": null,
   "metadata": {},
   "outputs": [],
   "source": [
    "softbody.fix_point(0, control_point)\n",
    "V_origin = softbody.V.clone()\n",
    "Velocity_origin = softbody.V_velocity.clone()\n",
    "mesh_origin = mesh.copy()"
   ]
  },
  {
   "cell_type": "code",
   "execution_count": null,
   "metadata": {},
   "outputs": [],
   "source": [
    "# Hardcoded control trajectory\n",
    "cloth_dist_stiffness = 1\n",
    "V_boundary_stiffness = 0.1\n",
    "V_dist_stiffness = torch.ones_like(softbody.V_mass).to(cfg.device)\n",
    "V_boundary_stiffness = torch.ones_like(softbody.V_mass).to(cfg.device) * V_boundary_stiffness"
   ]
  },
  {
   "cell_type": "code",
   "execution_count": null,
   "metadata": {},
   "outputs": [],
   "source": [
    "def loss_fn(target, predict, energy, alpha=5e5, gamma = 1.0):\n",
    "    return torch.norm(1 * (target - predict)) + energy * alpha * gamma"
   ]
  },
  {
   "cell_type": "code",
   "execution_count": null,
   "metadata": {},
   "outputs": [],
   "source": [
    "u = torch.linspace(0, 1, 3).to(cfg.device)\n",
    "us = torch.linspace(0, 1, 50).to(cfg.device)\n",
    "start_point = np.array([[0.000224, 0.010794, -0.001233]])\n",
    "start_point = torch.from_numpy(start_point).to(cfg.device)\n",
    "# spline_control = np.array([ [0.000224, 0.010794, 0.003],\n",
    "#                             [0.000224, 0.010794, 0.006],\n",
    "#                             [0.000224, 0.010794, 0.009]])\n",
    "spline_control = np.array([ [0.000224, 0.009794, 0.0005],\n",
    "                            [0.000224, 0.008794, 0.0010],\n",
    "                            [0.000224, 0.007794, 0.0015]])\n",
    "spline_control = torch.from_numpy(spline_control).to(cfg.device)\n",
    "spline_control.requires_grad_(True)"
   ]
  },
  {
   "cell_type": "code",
   "execution_count": null,
   "metadata": {},
   "outputs": [],
   "source": [
    "optimizer = torch.optim.Adam([spline_control], lr=0.001)"
   ]
  },
  {
   "cell_type": "code",
   "execution_count": null,
   "metadata": {},
   "outputs": [],
   "source": [
    "pv.set_plot_theme('document')\n",
    "pl = pv.Plotter()\n",
    "\n",
    "# skin being peeled\n",
    "pl.add_mesh(mesh, color='#9f5547ff', show_edges=True, edge_color='#b37164ff',  lighting=False,style='surface')\n",
    "# ellipsoid grape\n",
    "grape = pv.read('assets/grape.ply')\n",
    "grape.points = grape.points - np.array([0, 0, 1e-4])\n",
    "pl.add_mesh(grape, color='#9f5547ff', show_edges=False, lighting=False,style='surface')\n",
    "\n",
    "# grape meat that is green\n",
    "grape_meat= pv.read('assets/grape_skin.ply')\n",
    "grape_meat.points = grape_meat.points - np.array([0, 0, 2e-4])\n",
    "pl.add_mesh(grape_meat, color='#c0ab5eff', show_edges=False, lighting=False,style='surface')"
   ]
  },
  {
   "cell_type": "code",
   "execution_count": null,
   "metadata": {},
   "outputs": [],
   "source": [
    "control = []\n",
    "loss_list = []\n",
    "spline_list = []\n",
    "boundary_energy = []\n",
    "pre_loss = 100"
   ]
  },
  {
   "cell_type": "code",
   "execution_count": null,
   "metadata": {},
   "outputs": [],
   "source": [
    "for t in range(30):\n",
    "    print(t)\n",
    "    x_con = torch.cat((start_point[:, 0], spline_control[:, 0]))\n",
    "    y_con = torch.cat((start_point[:, 1], spline_control[:, 1]))\n",
    "    z_con = torch.cat((start_point[:, 2], spline_control[:, 2]))\n",
    "\n",
    "    # spline_x = cubic_bezier(x_con, us)\n",
    "    # spline_y = cubic_bezier(y_con, us)\n",
    "    # spline_z = cubic_bezier(z_con, us)\n",
    "\n",
    "    # spline_x = interp(u, x_con, us)\n",
    "    # spline_y = interp(u, y_con, us)\n",
    "    # spline_z = interp(u, z_con, us)\n",
    "\n",
    "    spline = cubic_bezier_arc_3D(x_con, y_con, z_con, 0.00025)\n",
    "    print(spline.shape)\n",
    "    spline_x = spline[0]\n",
    "    spline_y = spline[1]\n",
    "    spline_z = spline[2]\n",
    "\n",
    "    spline_trajectory = torch.transpose(torch.vstack((spline_x, spline_y, spline_z)), 0, 1)\n",
    "    spline_list.append(spline_trajectory.detach().cpu().numpy())\n",
    "    # reset for each test\n",
    "    softbody.V = V_origin.clone()\n",
    "    softbody.V_velocity = Velocity_origin.clone()\n",
    "\n",
    "    cloth_dist_stiffness = 1\n",
    "    V_boundary_stiffness = 0.1\n",
    "    V_dist_stiffness = torch.ones_like(softbody.V_mass).to(cfg.device)\n",
    "    V_boundary_stiffness = torch.ones_like(softbody.V_mass).to(cfg.device) * V_boundary_stiffness\n",
    "    energy_total = torch.zeros(1).to(cfg.device)\n",
    "    for i in range(spline_trajectory.shape[0]):\n",
    "        softbody.V[control_point] = spline_trajectory[i]\n",
    "        step_ref = XPBDStep(softbody,\n",
    "                        V_dist_stiffness=V_dist_stiffness, \n",
    "                        V_shape_stiffness=None,\n",
    "                        V_boundary_stiffness=V_boundary_stiffness, \n",
    "                        dt=cfg.dt,\n",
    "                        substep=cfg.substep,\n",
    "                        iteration=cfg.iteration,\n",
    "                        quasi_static=cfg.quasi_static,\n",
    "                        plane_height=cfg.ground_plane_height, \n",
    "                        use_shape_matching=cfg.use_shape_matching,\n",
    "                        use_spring_boundary=cfg.use_spring_boundary) #cfg.use_spring_boundary\n",
    "        V_ref, V_velocity_ref = step_ref.forward(softbody.V, softbody.V_velocity)\n",
    "        softbody.V = V_ref.clone()\n",
    "        softbody.V_velocity = V_velocity_ref.clone()\n",
    "        ref_V_boundary_stiffness = V_boundary_stiffness[:cfg.n_surf].detach().clone()\n",
    "        energy = get_energy_boundary(softbody, softbody.V, ref_V_boundary_stiffness)\n",
    "        V_boundary_stiffness[:cfg.n_surf] = ref_V_boundary_stiffness * torch.sigmoid(1e9 * (1e-8 - energy))\n",
    "        energy_total = energy_total + torch.sum(energy)\n",
    "    \n",
    "    n_break_boundary =cfg.n_surf - torch.sum(V_boundary_stiffness[:cfg.n_surf]) * 10\n",
    "\n",
    "    # interpolate trajectory\n",
    "    break_list = V_boundary_stiffness[:cfg.n_surf].detach() < 1e-2\n",
    "    score1 = torch.sum(break_list.reshape(cfg.n_surf) & target_list) / torch.sum(target_list)\n",
    "    score2 = torch.sum(torch.logical_not(break_list.reshape(cfg.n_surf) | target_list)) / torch.sum(torch.logical_not(target_list))\n",
    "    loss = loss_fn(target_boundary_stiffness, V_boundary_stiffness[:cfg.n_surf].reshape(cfg.n_surf), energy_total / n_break_boundary, alpha=0)\n",
    "    loss.backward()\n",
    "    \n",
    "    loss_list.append(loss.detach().cpu())\n",
    "    boundary_energy.append((energy_total / n_break_boundary).detach().cpu())\n",
    "    print('loss:', str(loss))\n",
    "    print('energy per break boundary', energy_total / n_break_boundary)\n",
    "    print('breaked boundary:', n_break_boundary)\n",
    "    print('current grad', spline_control.grad)\n",
    "    print('peeling arccuracy', score1, score2)\n",
    "    # if score > 0.9:\n",
    "    #     break\n",
    "    optimizer.step()\n",
    "    optimizer.zero_grad()\n",
    "    \n",
    "    mesh.points = softbody.V.detach().cpu().numpy()\n",
    "    if (t + 1) % 5 == 0:\n",
    "        pl.show(interactive_update=True)"
   ]
  },
  {
   "cell_type": "code",
   "execution_count": null,
   "metadata": {},
   "outputs": [],
   "source": [
    "ax = plt.figure().add_subplot(projection='3d')\n",
    "ax.scatter(mesh.points[:600, 0], mesh.points[:600, 1], mesh.points[:600, 2], c='g', marker='o', label='grape')\n",
    "ax.scatter(spline_trajectory[:, 0].cpu().detach(), spline_trajectory[:, 1].cpu().detach(), spline_trajectory[:, 2].cpu().detach(), c='r', marker='o', label='optimal trajectory')\n",
    "ax.scatter(spline_control[:, 0].cpu().detach(), spline_control[:, 1].cpu().detach(), spline_control[:, 2].cpu().detach(), c='b', marker='o', label='control point')\n",
    "ax.scatter(start_point[:, 0].cpu().detach(), start_point[:, 1].cpu().detach(), start_point[:, 2].cpu().detach(), c='y', marker='o', label='start point')\n",
    "ax.scatter(spline_list[0][:, 0], spline_list[0][:, 1], spline_list[0][:, 2])\n",
    "utils.axisEqual3D(ax)\n",
    "ax.view_init(elev=0, azim=0)\n",
    "ax.legend()\n",
    "plt.show()"
   ]
  },
  {
   "cell_type": "code",
   "execution_count": null,
   "metadata": {},
   "outputs": [],
   "source": [
    "spline_mesh = mesh.copy()"
   ]
  },
  {
   "cell_type": "code",
   "execution_count": null,
   "metadata": {},
   "outputs": [],
   "source": [
    "ax = plt.figure().add_subplot(projection='3d')\n",
    "for i in spline_list[-2:-1]:\n",
    "    ax.scatter(i[:, 0], i[:, 1], i[:, 2], marker='o')"
   ]
  },
  {
   "cell_type": "code",
   "execution_count": null,
   "metadata": {},
   "outputs": [],
   "source": [
    "plt.plot(loss_list)\n",
    "plt.title('loss vs iteration')\n",
    "plt.xlabel('times')\n",
    "plt.ylabel('loss')"
   ]
  },
  {
   "cell_type": "code",
   "execution_count": null,
   "metadata": {},
   "outputs": [],
   "source": [
    "plt.plot(boundary_energy)\n",
    "plt.title('energy per boundary in each iteration')\n",
    "plt.xlabel('times')\n",
    "plt.ylabel('energy per boundary')"
   ]
  },
  {
   "cell_type": "code",
   "execution_count": null,
   "metadata": {},
   "outputs": [],
   "source": [
    "spline_control"
   ]
  },
  {
   "cell_type": "code",
   "execution_count": null,
   "metadata": {},
   "outputs": [],
   "source": [
    "spline_line = spline_trajectory.detach().cpu().numpy()"
   ]
  },
  {
   "cell_type": "code",
   "execution_count": null,
   "metadata": {},
   "outputs": [],
   "source": [
    "spline_line = spline_list[16]"
   ]
  },
  {
   "cell_type": "code",
   "execution_count": null,
   "metadata": {},
   "outputs": [],
   "source": [
    "pv.set_plot_theme('document')\n",
    "pl = pv.Plotter()\n",
    "\n",
    "# skin being peeled\n",
    "pl.add_mesh(spline_mesh, color='#9f5547ff', show_edges=True, edge_color='#b37164ff',  lighting=False,style='surface')\n",
    "pl.add_mesh(mesh_origin, scalars=target_list.cpu(), show_edges=True, edge_color='#b37164ff',  lighting=False,style='surface')\n",
    "\n",
    "# control line\n",
    "pl.add_lines(spline_line, color='r', connected=True)\n",
    "# ellipsoid grape\n",
    "grape = pv.read('assets/grape.ply')\n",
    "grape.points = grape.points - np.array([0, 0, 1e-4])\n",
    "pl.add_mesh(grape, color='#9f5547ff', show_edges=False, lighting=False,style='surface')\n",
    "\n",
    "# grape meat that is green\n",
    "grape_meat= pv.read('assets/grape_skin.ply')\n",
    "grape_meat.points = grape_meat.points - np.array([0, 0, 2e-4])\n",
    "pl.add_mesh(grape_meat, color='#c0ab5eff', show_edges=False, lighting=False,style='surface')\n",
    "pl.show()"
   ]
  },
  {
   "cell_type": "code",
   "execution_count": 53,
   "metadata": {},
   "outputs": [
    {
     "name": "stdout",
     "output_type": "stream",
     "text": [
      "torch.Size([600, 3])\n",
      "torch.Size([1200, 3])\n"
     ]
    }
   ],
   "source": [
    "mesh, softbody = data.get_xpbd_grape()\n",
    "softbody.fix_point(0, control_point)\n",
    "mesh_origin = mesh.copy()"
   ]
  },
  {
   "cell_type": "code",
   "execution_count": 54,
   "metadata": {},
   "outputs": [
    {
     "data": {
      "text/plain": [
       "Actor (0x7f137041f160)\n",
       "  Center:                     (-9.851530194282532e-06, 0.0014494163915514946, -0.0009795548299327494)\n",
       "  Pickable:                   True\n",
       "  Position:                   (0.0, 0.0, 0.0)\n",
       "  Scale:                      (1.0, 1.0, 1.0)\n",
       "  Visible:                    True\n",
       "  X Bounds                    -6.636E-03, 6.616E-03\n",
       "  Y Bounds                    -1.040E-02, 1.330E-02\n",
       "  Z Bounds                    -3.189E-03, 1.230E-03\n",
       "  User matrix:                Set\n",
       "  Has mapper:                 True\n",
       "\n",
       "Property (0x7f1396a66800)\n",
       "  Ambient:                     0.0\n",
       "  Ambient color:               Color(hex='#c0ab5eff', opacity=255)\n",
       "  Anisotropy:                  0.0\n",
       "  Color:                       Color(hex='#c0ab5eff', opacity=255)\n",
       "  Culling:                     \"none\"\n",
       "  Diffuse:                     1.0\n",
       "  Diffuse color:               Color(hex='#c0ab5eff', opacity=255)\n",
       "  Edge color:                  Color(name='black', hex='#000000ff', opacity=255)\n",
       "  Edge opacity:                1.0\n",
       "  Interpolation:               0\n",
       "  Lighting:                    False\n",
       "  Line width:                  1.0\n",
       "  Metallic:                    0.0\n",
       "  Opacity:                     1.0\n",
       "  Point size:                  5.0\n",
       "  Render lines as tubes:       False\n",
       "  Render points as spheres:    False\n",
       "  Roughness:                   0.5\n",
       "  Show edges:                  False\n",
       "  Specular:                    0.0\n",
       "  Specular color:              Color(hex='#c0ab5eff', opacity=255)\n",
       "  Specular power:              100.0\n",
       "  Style:                       \"Surface\"\n",
       "\n",
       "DataSetMapper (0x7f13704dcb20)\n",
       "  Scalar visibility:           False\n",
       "  Scalar range:                (0.0, 1.0)\n",
       "  Interpolate before mapping:  True\n",
       "  Scalar map mode:             default\n",
       "  Color mode:                  direct\n",
       "\n",
       "Attached dataset:\n",
       "PolyData (0x7f1396a66ce0)\n",
       "  N Cells:    588\n",
       "  N Points:   380\n",
       "  N Strips:   0\n",
       "  X Bounds:   -6.636e-03, 6.616e-03\n",
       "  Y Bounds:   -1.040e-02, 1.330e-02\n",
       "  Z Bounds:   -3.189e-03, 1.230e-03\n",
       "  N Arrays:   0"
      ]
     },
     "execution_count": 54,
     "metadata": {},
     "output_type": "execute_result"
    }
   ],
   "source": [
    "pv.set_plot_theme('document')\n",
    "pl = pv.Plotter()\n",
    "# skin being peeled\n",
    "pl.add_mesh(mesh_origin, scalars=target_list.cpu(), show_edges=True, edge_color='#b37164ff',  lighting=False,style='surface')\n",
    "pl.add_mesh(mesh, color='#9f5547ff', show_edges=True, edge_color='#b37164ff',  lighting=False,style='surface')\n",
    "\n",
    "# control line\n",
    "# pl.add_lines(spline_line, color='r', connected=True)\n",
    "# ellipsoid grape\n",
    "grape = pv.read('assets/grape.ply')\n",
    "grape.points = grape.points - np.array([0, 0, 1e-4])\n",
    "pl.add_mesh(grape, color='#9f5547ff', show_edges=False, lighting=False,style='surface')\n",
    "\n",
    "# grape meat that is green\n",
    "grape_meat= pv.read('assets/grape_skin.ply')\n",
    "grape_meat.points = grape_meat.points - np.array([0, 0, 2e-4])\n",
    "pl.add_mesh(grape_meat, color='#c0ab5eff', show_edges=False, lighting=False,style='surface')"
   ]
  },
  {
   "cell_type": "code",
   "execution_count": 56,
   "metadata": {},
   "outputs": [],
   "source": [
    "# x_con = torch.cat((start_point[:, 0], spline_control[:, 0]))\n",
    "# y_con = torch.cat((start_point[:, 1], spline_control[:, 1]))\n",
    "# z_con = torch.cat((start_point[:, 2], spline_control[:, 2]))\n",
    "# us = torch.linspace(0, 1, 50).to(cfg.device)\n",
    "# spline_x = interp(u, x_con, us)\n",
    "# spline_y = interp(u, y_con, us)\n",
    "# spline_z = interp(u, z_con, us)\n",
    "\n",
    "spline_trajectory = torch.transpose(torch.vstack((spline_x, spline_y, spline_z)), 0, 1)\n",
    "# reset for each test\n",
    "softbody.V = V_origin.clone()\n",
    "softbody.V_velocity = Velocity_origin.clone()\n",
    "\n",
    "cloth_dist_stiffness = 1\n",
    "V_boundary_stiffness = 0.1\n",
    "V_dist_stiffness = torch.ones_like(softbody.V_mass).to(cfg.device)\n",
    "V_boundary_stiffness = torch.ones_like(softbody.V_mass).to(cfg.device) * V_boundary_stiffness\n",
    "energy_list = []\n",
    "pl.open_gif('boundary_based_optimize_tilted1.gif')\n",
    "spline_line = torch.from_numpy(spline_line).to(cfg.device)\n",
    "# boundary_energy_matrix = torch.zeros(50, 600).to(cfg.device)\n",
    "for i in range(spline_line.shape[0]):\n",
    "    softbody.V[control_point] = spline_line[i]\n",
    "    step_ref = XPBDStep(softbody,\n",
    "                    V_dist_stiffness=V_dist_stiffness, \n",
    "                    V_shape_stiffness=None,\n",
    "                    V_boundary_stiffness=V_boundary_stiffness, \n",
    "                    dt=cfg.dt,\n",
    "                    substep=cfg.substep,\n",
    "                    iteration=cfg.iteration,\n",
    "                    quasi_static=cfg.quasi_static,\n",
    "                    plane_height=cfg.ground_plane_height, \n",
    "                    use_shape_matching=cfg.use_shape_matching,\n",
    "                    use_spring_boundary=cfg.use_spring_boundary) #cfg.use_spring_boundary\n",
    "    V_ref, V_velocity_ref = step_ref.forward(softbody.V, softbody.V_velocity)\n",
    "    softbody.V = V_ref.clone()\n",
    "    softbody.V_velocity = V_velocity_ref.clone()\n",
    "    ref_V_boundary_stiffness = V_boundary_stiffness[:cfg.n_surf].detach().clone()\n",
    "    energy = get_energy_boundary(softbody, softbody.V, ref_V_boundary_stiffness)\n",
    "    # boundary_energy_matrix[i] = energy.squeeze()\n",
    "    V_boundary_stiffness[:cfg.n_surf] = ref_V_boundary_stiffness * torch.sigmoid(1e9 * (1e-8 - energy))\n",
    "    mesh.points = softbody.V.detach().cpu().numpy()\n",
    "    energy_list.append(energy.detach().cpu().numpy().reshape(cfg.n_surf))\n",
    "    # pl.update()\n",
    "    # pl.show()\n",
    "    pl.write_frame()\n",
    "pl.close()"
   ]
  },
  {
   "cell_type": "code",
   "execution_count": null,
   "metadata": {},
   "outputs": [],
   "source": [
    "energy_list = np.array(energy_list)"
   ]
  },
  {
   "cell_type": "code",
   "execution_count": null,
   "metadata": {},
   "outputs": [],
   "source": [
    "energy_per_iter = np.sum(energy_list, axis=1)"
   ]
  },
  {
   "cell_type": "code",
   "execution_count": null,
   "metadata": {},
   "outputs": [],
   "source": [
    "plt.plot(energy_per_iter)"
   ]
  },
  {
   "cell_type": "code",
   "execution_count": null,
   "metadata": {},
   "outputs": [],
   "source": [
    "np.sum(energy_per_iter)"
   ]
  },
  {
   "cell_type": "code",
   "execution_count": null,
   "metadata": {},
   "outputs": [],
   "source": [
    "boundary_max_energy, _ = torch.max(boundary_energy_matrix, 0)\n",
    "energy_total = torch.sum(boundary_max_energy)"
   ]
  },
  {
   "cell_type": "code",
   "execution_count": null,
   "metadata": {},
   "outputs": [],
   "source": [
    "energy_total"
   ]
  }
 ],
 "metadata": {
  "kernelspec": {
   "display_name": "py_pbd",
   "language": "python",
   "name": "python3"
  },
  "language_info": {
   "codemirror_mode": {
    "name": "ipython",
    "version": 3
   },
   "file_extension": ".py",
   "mimetype": "text/x-python",
   "name": "python",
   "nbconvert_exporter": "python",
   "pygments_lexer": "ipython3",
   "version": "3.10.9"
  }
 },
 "nbformat": 4,
 "nbformat_minor": 2
}
